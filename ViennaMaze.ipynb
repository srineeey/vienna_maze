{
 "cells": [
  {
   "cell_type": "code",
   "execution_count": 4,
   "metadata": {},
   "outputs": [],
   "source": [
    "%matplotlib inline\n",
    "\n",
    "from numpy import *\n",
    "from numpy.random import randint as rand\n",
    "import matplotlib.pyplot as plt\n",
    "\n",
    "from IPython.display import clear_output\n",
    "from time import sleep"
   ]
  },
  {
   "cell_type": "code",
   "execution_count": 5,
   "metadata": {},
   "outputs": [],
   "source": [
    "# Maze generation algorithm from wikipedia\n",
    "\n",
    "def maze(width=81, height=51, complexity=.75, density=.75):\n",
    "    # Only odd shapes\n",
    "    shape = ((height // 2) * 2 + 1, (width // 2) * 2 + 1)\n",
    "    # Adjust complexity and density relative to maze size\n",
    "    complexity = int(complexity * (5 * (shape[0] + shape[1]))) # number of components\n",
    "    density    = int(density * ((shape[0] // 2) * (shape[1] // 2))) # size of components\n",
    "    # Build actual maze\n",
    "    Z = zeros(shape, dtype=bool)\n",
    "    # Fill borders\n",
    "    Z[0, :] = Z[-1, :] = 1\n",
    "    Z[:, 0] = Z[:, -1] = 1\n",
    "    # Make aisles\n",
    "    for i in range(density):\n",
    "        x, y = rand(0, shape[1] // 2) * 2, rand(0, shape[0] // 2) * 2 # pick a random position\n",
    "        Z[y, x] = 1\n",
    "        for j in range(complexity):\n",
    "            neighbours = []\n",
    "            if x > 1:             neighbours.append((y, x - 2))\n",
    "            if x < shape[1] - 2:  neighbours.append((y, x + 2))\n",
    "            if y > 1:             neighbours.append((y - 2, x))\n",
    "            if y < shape[0] - 2:  neighbours.append((y + 2, x))\n",
    "            if len(neighbours):\n",
    "                y_,x_ = neighbours[rand(0, len(neighbours) - 1)]\n",
    "                if Z[y_, x_] == 0:\n",
    "                    Z[y_, x_] = 1\n",
    "                    Z[y_ + (y - y_) // 2, x_ + (x - x_) // 2] = 1\n",
    "                    x, y = x_, y_\n",
    "    return Z\n"
   ]
  },
  {
   "cell_type": "code",
   "execution_count": 6,
   "metadata": {},
   "outputs": [
    {
     "data": {
      "image/png": "[encoded data removed]",
      "text/plain": [
       "<Figure size 432x288 with 1 Axes>"
      ]
     },
     "metadata": {},
     "output_type": "display_data"
    }
   ],
   "source": [
    "# make a maze, convert array from True/False to integer:\n",
    "world=array(maze(width=12,height=12),dtype='int')\n",
    "# 'animate' \n",
    "for j in range(12):\n",
    "    picture=copy(world) # copy the array (!)\n",
    "    picture[j,j]=3\n",
    "    plt.imshow(picture,origin='lower')\n",
    "    plt.show()\n",
    "    sleep(0.01)\n",
    "    clear_output(wait=True)"
   ]
  },
  {
   "cell_type": "code",
   "execution_count": 7,
   "metadata": {},
   "outputs": [],
   "source": [
    "#plt.imshow(maze(width=20, height=20))"
   ]
  },
  {
   "cell_type": "code",
   "execution_count": 8,
   "metadata": {},
   "outputs": [],
   "source": [
    "import numpy as np\n",
    "import scipy as scp"
   ]
  },
  {
   "cell_type": "code",
   "execution_count": 22,
   "metadata": {},
   "outputs": [],
   "source": [
    "class agent:\n",
    "    \n",
    "    def __init__(self,maze_env):\n",
    "        \n",
    "        self.maze_env = maze_env\n",
    "        q_shape = [ 2*len(maze_env.maze_shape)] + [maze_env.maze_shape]\n",
    "        self.q_functions = np.zeros(shape=q_shape)\n",
    "        self.position\n",
    "        \n",
    "    def predict_action(self, random_p=1.):\n",
    "        \"\"\"predict action based on position\"\"\"\n",
    "        \"\"\"sample p and do random walk or walk based on q function\"\"\"\n",
    "        sample_p = np.random.uniform(low=0., high=1.)\n",
    "        \n",
    "        if sample_p < random_p:\n",
    "            \"\"\"Random walk\"\"\"\n",
    "            action_index = np.random.randint(low=0, high=4, dtype=int)\n",
    "        else:\n",
    "            \"\"\"Q step\"\"\"\n",
    "            pass\n",
    "    \n",
    "        return action_index\n",
    "    \n",
    "    def update_q(self):\n",
    "        \"\"\"Q update Bellmann equation\"\"\"\n",
    "        q_new = q_old + alpha*(reward + gamma* max(q_old) - q_old)\n",
    "    \n",
    "    def update_position(self, action_index):\n",
    "        action = self.maze_env.action_list[action_index]\n",
    "        \n",
    "        if self.maze_env.maze[self.position + action] == True:\n",
    "            \"\"\"Hit wall\"\"\"\n",
    "            pass\n",
    "        else:\n",
    "            self.position += action\n",
    "    \n",
    "class maze_env:\n",
    "    \n",
    "    def __init__(self, width=10, height=10):\n",
    "        \n",
    "        self.maze_shape = [width,height]\n",
    "        self.maze = maze(width=width, height=height)\n",
    "        self.target = [0,0]\n",
    "        self.target_reward = 10.\n",
    "        action_list = [\n",
    "            [0,1],\n",
    "            [1,0],\n",
    "            [0,-1],\n",
    "            [-1,0]\n",
    "        ]\n",
    "    \n",
    "    def give_reward(self, position):\n",
    "        \n",
    "        if position == target:\n",
    "            return target_reward\n",
    "        else:\n",
    "            return 0.\n",
    "    \n",
    "    def set_agent(self, agent,position):\n",
    "        agent.position = position\n",
    "#[np.random.randint(0,self.maze_shape[0]),np.random.randint(0,self.maze_shape[1])]\n",
    "    \"\"\" position = [x,y]\"\"\"\n",
    "    def set_target(self, position):\n",
    "        self.target = position\n",
    "    \n",
    "    #def get_possible_actions(self, position):\n",
    "        \n",
    "    "
   ]
  },
  {
   "cell_type": "code",
   "execution_count": 25,
   "metadata": {},
   "outputs": [
    {
     "data": {
      "text/plain": [
       "<matplotlib.image.AxesImage at 0x7fe509e9e898>"
      ]
     },
     "execution_count": 25,
     "metadata": {},
     "output_type": "execute_result"
    },
    {
     "data": {
      "image/png": "[encoded data removed]",
      "text/plain": [
       "<Figure size 432x288 with 1 Axes>"
      ]
     },
     "metadata": {},
     "output_type": "display_data"
    }
   ],
   "source": [
    "trajectory = []\n",
    "\n",
    "my_maze_env = maze_env(width=10, height=10)\n",
    "plt.imshow(my_maze_env.maze)\n"
   ]
  },
  {
   "cell_type": "code",
   "execution_count": null,
   "metadata": {},
   "outputs": [],
   "source": []
  }
 ],
 "metadata": {
  "kernelspec": {
   "display_name": "Python 3",
   "language": "python",
   "name": "python3"
  },
  "language_info": {
   "codemirror_mode": {
    "name": "ipython",
    "version": 3
   },
   "file_extension": ".py",
   "mimetype": "text/x-python",
   "name": "python",
   "nbconvert_exporter": "python",
   "pygments_lexer": "ipython3",
   "version": "3.6.9"
  }
 },
 "nbformat": 4,
 "nbformat_minor": 4
}
