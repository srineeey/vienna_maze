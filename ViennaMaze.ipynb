{
 "cells": [
  {
   "cell_type": "code",
   "execution_count": 1,
   "metadata": {},
   "outputs": [],
   "source": [
    "%matplotlib inline\n",
    "\n",
    "from numpy import *\n",
    "from numpy.random import randint as rand\n",
    "import matplotlib.pyplot as plt\n",
    "\n",
    "from IPython.display import clear_output\n",
    "from time import sleep"
   ]
  },
  {
   "cell_type": "code",
   "execution_count": 2,
   "metadata": {},
   "outputs": [],
   "source": [
    "# Maze generation algorithm from wikipedia\n",
    "\n",
    "def maze(width=81, height=51, complexity=.75, density=.75):\n",
    "    # Only odd shapes\n",
    "    shape = ((height // 2) * 2 + 1, (width // 2) * 2 + 1)\n",
    "    # Adjust complexity and density relative to maze size\n",
    "    complexity = int(complexity * (5 * (shape[0] + shape[1]))) # number of components\n",
    "    density    = int(density * ((shape[0] // 2) * (shape[1] // 2))) # size of components\n",
    "    # Build actual maze\n",
    "    Z = zeros(shape, dtype=bool)\n",
    "    # Fill borders\n",
    "    Z[0, :] = Z[-1, :] = 1\n",
    "    Z[:, 0] = Z[:, -1] = 1\n",
    "    # Make aisles\n",
    "    for i in range(density):\n",
    "        x, y = rand(0, shape[1] // 2) * 2, rand(0, shape[0] // 2) * 2 # pick a random position\n",
    "        Z[y, x] = 1\n",
    "        for j in range(complexity):\n",
    "            neighbours = []\n",
    "            if x > 1:             neighbours.append((y, x - 2))\n",
    "            if x < shape[1] - 2:  neighbours.append((y, x + 2))\n",
    "            if y > 1:             neighbours.append((y - 2, x))\n",
    "            if y < shape[0] - 2:  neighbours.append((y + 2, x))\n",
    "            if len(neighbours):\n",
    "                y_,x_ = neighbours[rand(0, len(neighbours) - 1)]\n",
    "                if Z[y_, x_] == 0:\n",
    "                    Z[y_, x_] = 1\n",
    "                    Z[y_ + (y - y_) // 2, x_ + (x - x_) // 2] = 1\n",
    "                    x, y = x_, y_\n",
    "    return Z\n"
   ]
  },
  {
   "cell_type": "code",
   "execution_count": 3,
   "metadata": {},
   "outputs": [
    {
     "data": {
      "image/png": "[encoded data removed]",
      "text/plain": [
       "<Figure size 432x288 with 1 Axes>"
      ]
     },
     "metadata": {},
     "output_type": "display_data"
    }
   ],
   "source": [
    "# make a maze, convert array from True/False to integer:\n",
    "world=array(maze(width=12,height=12),dtype='int')\n",
    "# 'animate' \n",
    "for j in range(12):\n",
    "    picture=copy(world) # copy the array (!)\n",
    "    picture[1,j]=4\n",
    "    plt.imshow(picture,origin='lower')\n",
    "    plt.show()\n",
    "    sleep(0.01)\n",
    "    clear_output(wait=True)"
   ]
  },
  {
   "cell_type": "code",
   "execution_count": 4,
   "metadata": {},
   "outputs": [],
   "source": [
    "#plt.imshow(maze(width=20, height=20))"
   ]
  },
  {
   "cell_type": "code",
   "execution_count": 5,
   "metadata": {},
   "outputs": [],
   "source": [
    "import numpy as np\n",
    "import scipy as scp"
   ]
  },
  {
   "cell_type": "code",
   "execution_count": 37,
   "metadata": {},
   "outputs": [],
   "source": [
    "class agent:\n",
    "    \n",
    "    def __init__(self,maze_env):\n",
    "        \n",
    "        self.maze_env = maze_env\n",
    "        q_shape = np.concatenate([ 2*len(maze_env.maze_shape)], maze_env.maze_shape)\n",
    "        self.q_functions = np.zeros(shape=q_shape)\n",
    "        self.position\n",
    "        \n",
    "    def predict_action(self, random_p=1.):\n",
    "        \"\"\"predict action based on position\"\"\"\n",
    "        \"\"\"sample p and do random walk or walk based on q function\"\"\"\n",
    "        sample_p = np.random.uniform(low=0., high=1.)\n",
    "        \n",
    "        if sample_p < random_p:\n",
    "            \"\"\"Random walk\"\"\"\n",
    "            action_index = np.random.randint(low=0, high=4, dtype=int)\n",
    "        else:\n",
    "            \"\"\"Q step\"\"\"\n",
    "            pass\n",
    "    \n",
    "        return action_index\n",
    "    \n",
    "    def update_q(self):\n",
    "        \"\"\"Q update Bellmann equation\"\"\"\n",
    "        q_new = q_old + alpha*(reward + gamma* max(q_old) - q_old)\n",
    "    \n",
    "    def update_position(self, action_index):\n",
    "        action = self.maze_env.action_list[action_index]\n",
    "        \n",
    "        if self.maze_env.maze[self.position + action] == True:\n",
    "            \"\"\"Hit wall\"\"\"\n",
    "            pass\n",
    "        else:\n",
    "            self.position += action\n",
    "    \n",
    "class maze_env:\n",
    "    \n",
    "    def __init__(self, width=10, height=10):\n",
    "        \n",
    "        self.maze_shape = [width,height]\n",
    "        self.maze = maze(width=width, height=height)\n",
    "        \n",
    "        self.no_walls = np.argwhere( self.maze == False )\n",
    "        \n",
    "        indices = list(range(len(self.no_walls)))\n",
    "        random_index = np.random.choice(indices)\n",
    "        self.target = self.no_walls[random_index]\n",
    "        np.delete(self.no_walls, random_index)\n",
    "        \n",
    "        self.target_reward = 10.\n",
    "        action_list = [\n",
    "            [0,1],\n",
    "            [1,0],\n",
    "            [0,-1],\n",
    "            [-1,0]\n",
    "        ]\n",
    "    \n",
    "    def give_reward(self, position):\n",
    "        \n",
    "        if position == target:\n",
    "            return target_reward\n",
    "        else:\n",
    "            return 0.\n",
    "    \n",
    "    def set_agent(self, agent,position):\n",
    "        agent.position = position\n",
    "\n",
    "        \n",
    "    \"\"\" position = [x,y]\"\"\"\n",
    "    def set_target(self, position):\n",
    "        self.target = position\n",
    "        \n",
    "        self.target = position\n",
    "    \n",
    "    #def get_possible_actions(self, position):\n",
    "        \n",
    "    def get_random_pos(self, num_pos):\n",
    "        #np.random.seed = position\n",
    "        indices = list(range(len(self.no_walls)))\n",
    "        print(indices)\n",
    "        random_index = np.random.choice(indices, size=num_pos, replace=True)\n",
    "        random_pos = self.no_walls[random_index]\n",
    "        \n",
    "        return random_pos\n",
    "        "
   ]
  },
  {
   "cell_type": "code",
   "execution_count": 38,
   "metadata": {},
   "outputs": [
    {
     "data": {
      "text/plain": [
       "<matplotlib.image.AxesImage at 0x7f0270da7fd0>"
      ]
     },
     "execution_count": 38,
     "metadata": {},
     "output_type": "execute_result"
    },
    {
     "data": {
      "image/png": "[encoded data removed]",
      "text/plain": [
       "<Figure size 432x288 with 1 Axes>"
      ]
     },
     "metadata": {},
     "output_type": "display_data"
    }
   ],
   "source": [
    "trajectory = []\n",
    "\n",
    "my_maze_env = maze_env(width=10, height=10)\n",
    "plt.imshow(my_maze_env.maze)\n"
   ]
  },
  {
   "cell_type": "code",
   "execution_count": 39,
   "metadata": {},
   "outputs": [
    {
     "ename": "TypeError",
     "evalue": "'list' object cannot be interpreted as an integer",
     "output_type": "error",
     "traceback": [
      "\u001b[0;31m---------------------------------------------------------------------------\u001b[0m",
      "\u001b[0;31mTypeError\u001b[0m                                 Traceback (most recent call last)",
      "\u001b[0;32m<ipython-input-39-8c82895c26cb>\u001b[0m in \u001b[0;36m<module>\u001b[0;34m()\u001b[0m\n\u001b[0;32m----> 1\u001b[0;31m \u001b[0mmy_agent\u001b[0m \u001b[0;34m=\u001b[0m \u001b[0magent\u001b[0m\u001b[0;34m(\u001b[0m\u001b[0mmy_maze_env\u001b[0m\u001b[0;34m)\u001b[0m\u001b[0;34m\u001b[0m\u001b[0;34m\u001b[0m\u001b[0m\n\u001b[0m\u001b[1;32m      2\u001b[0m \u001b[0;34m\u001b[0m\u001b[0m\n\u001b[1;32m      3\u001b[0m \u001b[0minit_pos\u001b[0m \u001b[0;34m=\u001b[0m \u001b[0mmy_maze_env\u001b[0m\u001b[0;34m.\u001b[0m\u001b[0mget_random_pos\u001b[0m\u001b[0;34m(\u001b[0m\u001b[0;36m1\u001b[0m\u001b[0;34m)\u001b[0m\u001b[0;34m[\u001b[0m\u001b[0;36m0\u001b[0m\u001b[0;34m]\u001b[0m\u001b[0;34m\u001b[0m\u001b[0;34m\u001b[0m\u001b[0m\n\u001b[1;32m      4\u001b[0m \u001b[0;34m\u001b[0m\u001b[0m\n\u001b[1;32m      5\u001b[0m \u001b[0mmy_maze_env\u001b[0m\u001b[0;34m.\u001b[0m\u001b[0mset_agent\u001b[0m\u001b[0;34m(\u001b[0m\u001b[0mmy_agent\u001b[0m\u001b[0;34m,\u001b[0m\u001b[0marray\u001b[0m\u001b[0;34m(\u001b[0m\u001b[0minit_pos\u001b[0m\u001b[0;34m)\u001b[0m\u001b[0;34m)\u001b[0m\u001b[0;34m\u001b[0m\u001b[0;34m\u001b[0m\u001b[0m\n",
      "\u001b[0;32m<ipython-input-37-a9a6c9ec780f>\u001b[0m in \u001b[0;36m__init__\u001b[0;34m(self, maze_env)\u001b[0m\n\u001b[1;32m      4\u001b[0m \u001b[0;34m\u001b[0m\u001b[0m\n\u001b[1;32m      5\u001b[0m         \u001b[0mself\u001b[0m\u001b[0;34m.\u001b[0m\u001b[0mmaze_env\u001b[0m \u001b[0;34m=\u001b[0m \u001b[0mmaze_env\u001b[0m\u001b[0;34m\u001b[0m\u001b[0;34m\u001b[0m\u001b[0m\n\u001b[0;32m----> 6\u001b[0;31m         \u001b[0mq_shape\u001b[0m \u001b[0;34m=\u001b[0m \u001b[0mnp\u001b[0m\u001b[0;34m.\u001b[0m\u001b[0mconcatenate\u001b[0m\u001b[0;34m(\u001b[0m\u001b[0;34m[\u001b[0m \u001b[0;36m2\u001b[0m\u001b[0;34m*\u001b[0m\u001b[0mlen\u001b[0m\u001b[0;34m(\u001b[0m\u001b[0mmaze_env\u001b[0m\u001b[0;34m.\u001b[0m\u001b[0mmaze_shape\u001b[0m\u001b[0;34m)\u001b[0m\u001b[0;34m]\u001b[0m\u001b[0;34m,\u001b[0m \u001b[0mmaze_env\u001b[0m\u001b[0;34m.\u001b[0m\u001b[0mmaze_shape\u001b[0m\u001b[0;34m)\u001b[0m\u001b[0;34m\u001b[0m\u001b[0;34m\u001b[0m\u001b[0m\n\u001b[0m\u001b[1;32m      7\u001b[0m         \u001b[0mself\u001b[0m\u001b[0;34m.\u001b[0m\u001b[0mq_functions\u001b[0m \u001b[0;34m=\u001b[0m \u001b[0mnp\u001b[0m\u001b[0;34m.\u001b[0m\u001b[0mzeros\u001b[0m\u001b[0;34m(\u001b[0m\u001b[0mshape\u001b[0m\u001b[0;34m=\u001b[0m\u001b[0mq_shape\u001b[0m\u001b[0;34m)\u001b[0m\u001b[0;34m\u001b[0m\u001b[0;34m\u001b[0m\u001b[0m\n\u001b[1;32m      8\u001b[0m         \u001b[0mself\u001b[0m\u001b[0;34m.\u001b[0m\u001b[0mposition\u001b[0m\u001b[0;34m\u001b[0m\u001b[0;34m\u001b[0m\u001b[0m\n",
      "\u001b[0;32m<__array_function__ internals>\u001b[0m in \u001b[0;36mconcatenate\u001b[0;34m(*args, **kwargs)\u001b[0m\n",
      "\u001b[0;31mTypeError\u001b[0m: 'list' object cannot be interpreted as an integer"
     ]
    }
   ],
   "source": [
    "my_agent = agent(my_maze_env)\n",
    "\n",
    "init_pos = my_maze_env.get_random_pos(1)[0]\n",
    "\n",
    "my_maze_env.set_agent(my_agent,array(init_pos))\n",
    "\n",
    "image = np.array(my_maze_env.maze, dtype=int)\n",
    "print(init_pos)\n",
    "print(my_maze_env.target)\n",
    "image[init_pos[0], init_pos[1]] = 4\n",
    "image[my_maze_env.target[0], my_maze_env.target[1]] = 6\n",
    "print(image)\n",
    "plt.imshow(image)"
   ]
  },
  {
   "cell_type": "code",
   "execution_count": 36,
   "metadata": {},
   "outputs": [
    {
     "ename": "TypeError",
     "evalue": "predict_action() missing 1 required positional argument: 'self'",
     "output_type": "error",
     "traceback": [
      "\u001b[0;31m---------------------------------------------------------------------------\u001b[0m",
      "\u001b[0;31mTypeError\u001b[0m                                 Traceback (most recent call last)",
      "\u001b[0;32m<ipython-input-36-ea62a7bf5495>\u001b[0m in \u001b[0;36m<module>\u001b[0;34m()\u001b[0m\n\u001b[1;32m      4\u001b[0m \u001b[0;32mfor\u001b[0m \u001b[0mi\u001b[0m \u001b[0;32min\u001b[0m \u001b[0mrange\u001b[0m\u001b[0;34m(\u001b[0m\u001b[0mn_steps\u001b[0m\u001b[0;34m)\u001b[0m\u001b[0;34m:\u001b[0m\u001b[0;34m\u001b[0m\u001b[0;34m\u001b[0m\u001b[0m\n\u001b[1;32m      5\u001b[0m     \u001b[0;31m#my_maze_env.get_reward()\u001b[0m\u001b[0;34m\u001b[0m\u001b[0;34m\u001b[0m\u001b[0;34m\u001b[0m\u001b[0m\n\u001b[0;32m----> 6\u001b[0;31m     \u001b[0maction_index\u001b[0m \u001b[0;34m=\u001b[0m \u001b[0mmy_agent\u001b[0m\u001b[0;34m.\u001b[0m\u001b[0mpredict_action\u001b[0m\u001b[0;34m(\u001b[0m\u001b[0mrandom_p\u001b[0m\u001b[0;34m=\u001b[0m\u001b[0;36m1.\u001b[0m\u001b[0;34m)\u001b[0m\u001b[0;34m\u001b[0m\u001b[0;34m\u001b[0m\u001b[0m\n\u001b[0m\u001b[1;32m      7\u001b[0m     \u001b[0;31m#my_agent.update_q()\u001b[0m\u001b[0;34m\u001b[0m\u001b[0;34m\u001b[0m\u001b[0;34m\u001b[0m\u001b[0m\n\u001b[1;32m      8\u001b[0m     \u001b[0mmy_agent\u001b[0m\u001b[0;34m.\u001b[0m\u001b[0mupdate_position\u001b[0m\u001b[0;34m(\u001b[0m\u001b[0maction_index\u001b[0m\u001b[0;34m=\u001b[0m\u001b[0maction_index\u001b[0m\u001b[0;34m)\u001b[0m\u001b[0;34m\u001b[0m\u001b[0;34m\u001b[0m\u001b[0m\n",
      "\u001b[0;31mTypeError\u001b[0m: predict_action() missing 1 required positional argument: 'self'"
     ]
    }
   ],
   "source": [
    "random_steps = 10\n",
    "n_steps = 100\n",
    "\n",
    "for i in range(n_steps):\n",
    "    #my_maze_env.get_reward()\n",
    "    action_index = my_agent.predict_action(random_p=1.)\n",
    "    #my_agent.update_q()\n",
    "    my_agent.update_position(action_index=action_index)\n",
    "    \n",
    "    image = np.array(my_maze_env.maze, dtype=int)\n",
    "    \n",
    "    image[my_agent.position[0], my_agent.position[1]] = 3\n",
    "    image[my_maze_env.target[0], my_maze_env.target[1]] = 5\n",
    "    \n",
    "    plt.imshow(image)\n",
    "    \n",
    "    if agent.position == my_maze_env.target:\n",
    "        #my_maze_env.get_reward()\n",
    "        my_maze_env.set_agent()"
   ]
  },
  {
   "cell_type": "code",
   "execution_count": null,
   "metadata": {},
   "outputs": [],
   "source": []
  },
  {
   "cell_type": "code",
   "execution_count": null,
   "metadata": {},
   "outputs": [],
   "source": []
  },
  {
   "cell_type": "code",
   "execution_count": null,
   "metadata": {},
   "outputs": [],
   "source": []
  },
  {
   "cell_type": "code",
   "execution_count": null,
   "metadata": {},
   "outputs": [],
   "source": []
  }
 ],
 "metadata": {
  "kernelspec": {
   "display_name": "Python 3",
   "language": "python",
   "name": "python3"
  },
  "language_info": {
   "codemirror_mode": {
    "name": "ipython",
    "version": 3
   },
   "file_extension": ".py",
   "mimetype": "text/x-python",
   "name": "python",
   "nbconvert_exporter": "python",
   "pygments_lexer": "ipython3",
   "version": "3.6.9"
  }
 },
 "nbformat": 4,
 "nbformat_minor": 4
}
