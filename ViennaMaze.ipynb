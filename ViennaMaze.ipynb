{
 "cells": [
  {
   "cell_type": "code",
   "execution_count": 1,
   "metadata": {},
   "outputs": [],
   "source": [
    "%matplotlib inline\n",
    "\n",
    "from numpy import *\n",
    "from numpy.random import randint as rand\n",
    "import matplotlib.pyplot as plt\n",
    "\n",
    "from IPython.display import clear_output\n",
    "from time import sleep"
   ]
  },
  {
   "cell_type": "code",
   "execution_count": 2,
   "metadata": {},
   "outputs": [],
   "source": [
    "# Maze generation algorithm from wikipedia\n",
    "\n",
    "def maze(width=81, height=51, complexity=.75, density=.75):\n",
    "    # Only odd shapes\n",
    "    shape = ((height // 2) * 2 + 1, (width // 2) * 2 + 1)\n",
    "    # Adjust complexity and density relative to maze size\n",
    "    complexity = int(complexity * (5 * (shape[0] + shape[1]))) # number of components\n",
    "    density    = int(density * ((shape[0] // 2) * (shape[1] // 2))) # size of components\n",
    "    # Build actual maze\n",
    "    Z = zeros(shape, dtype=bool)\n",
    "    # Fill borders\n",
    "    Z[0, :] = Z[-1, :] = 1\n",
    "    Z[:, 0] = Z[:, -1] = 1\n",
    "    # Make aisles\n",
    "    for i in range(density):\n",
    "        x, y = rand(0, shape[1] // 2) * 2, rand(0, shape[0] // 2) * 2 # pick a random position\n",
    "        Z[y, x] = 1\n",
    "        for j in range(complexity):\n",
    "            neighbours = []\n",
    "            if x > 1:             neighbours.append((y, x - 2))\n",
    "            if x < shape[1] - 2:  neighbours.append((y, x + 2))\n",
    "            if y > 1:             neighbours.append((y - 2, x))\n",
    "            if y < shape[0] - 2:  neighbours.append((y + 2, x))\n",
    "            if len(neighbours):\n",
    "                y_,x_ = neighbours[rand(0, len(neighbours) - 1)]\n",
    "                if Z[y_, x_] == 0:\n",
    "                    Z[y_, x_] = 1\n",
    "                    Z[y_ + (y - y_) // 2, x_ + (x - x_) // 2] = 1\n",
    "                    x, y = x_, y_\n",
    "    return Z\n"
   ]
  },
  {
   "cell_type": "code",
   "execution_count": 3,
   "metadata": {},
   "outputs": [
    {
     "data": {
      "image/png": "[encoded data removed]",
      "text/plain": [
       "<Figure size 432x288 with 1 Axes>"
      ]
     },
     "metadata": {},
     "output_type": "display_data"
    }
   ],
   "source": [
    "# make a maze, convert array from True/False to integer:\n",
    "world=array(maze(width=12,height=12),dtype='int')\n",
    "# 'animate' \n",
    "for j in range(12):\n",
    "    picture=copy(world) # copy the array (!)\n",
    "    picture[1,j]=4\n",
    "    plt.imshow(picture,origin='lower')\n",
    "    plt.show()\n",
    "    sleep(0.01)\n",
    "    clear_output(wait=True)"
   ]
  },
  {
   "cell_type": "code",
   "execution_count": 4,
   "metadata": {},
   "outputs": [],
   "source": [
    "#plt.imshow(maze(width=20, height=20))"
   ]
  },
  {
   "cell_type": "code",
   "execution_count": 5,
   "metadata": {},
   "outputs": [],
   "source": [
    "import numpy as np\n",
    "import scipy as scp"
   ]
  },
  {
   "cell_type": "code",
   "execution_count": 6,
   "metadata": {},
   "outputs": [],
   "source": [
    "class agent:\n",
    "    \n",
    "    def __init__(self,maze_env, init_pos):\n",
    "        \n",
    "        self.maze_env = maze_env\n",
    "        #q_shape = np.concatenate(([ 2*len(maze_env.maze_shape)], maze_env.maze_shape))\n",
    "        q_shape = np.concatenate(([ 2*len(maze_env.maze_shape)], maze_env.maze.shape))\n",
    "        self.q_functions = np.zeros(shape=q_shape)\n",
    "        self.position = init_pos\n",
    "        self.alpha = 0.3\n",
    "        self.gamma = 0.3\n",
    "        \n",
    "    def predict_action(self, random_p=1.):\n",
    "        \"\"\"predict action based on position\"\"\"\n",
    "        \"\"\"sample p and do random walk or walk based on q function\"\"\"\n",
    "        sample_p = np.random.uniform(low=0., high=1.)\n",
    "        \n",
    "        if sample_p < random_p:\n",
    "            \"\"\"Random walk\"\"\"\n",
    "            action_index = np.random.randint(low=0, high=4, dtype=int)\n",
    "        else:\n",
    "            \"\"\"Q step\"\"\"\n",
    "            #action_index = np.argmax(self.q_functions[:, self.position[0], self.position[1]])\n",
    "            q_max = np.amax(self.q_functions[:, self.position[0], self.position[1]])\n",
    "            action_indices = np.argwhere(self.q_functions[:, self.position[0], self.position[1]] == q_max).flatten()\n",
    "            #print(f\"Q action indices {action_indices}\")\n",
    "            action_index = np.random.choice(action_indices)\n",
    "            #print(f\"Q chosen index {action_index}\")\n",
    "            #print(self.q_functions[:, self.position[0], self.position[1]])\n",
    "            \n",
    "        return action_index\n",
    "    \n",
    "    def update_q(self, action_index, reward):\n",
    "        \"\"\"Q update Bellmann equation\"\"\"\n",
    "        #q_new = self.q_functions + self.alpha * ( reward + self.gamma * ( max(self.q_functions) - self.q_functions ) )\n",
    "        \n",
    "        q_max = []\n",
    "        for neigh_i in range(len(self.maze_env.action_list)):\n",
    "            new_pos = self.position + self.maze_env.action_list[neigh_i]\n",
    "            #print(new_pos)\n",
    "            #print(self.maze_env.maze[new_pos[0], new_pos[1]])\n",
    "            if self.maze_env.maze[new_pos[0], new_pos[1]] == False:\n",
    "                q_max.append(self.q_functions[neigh_i, new_pos[0], new_pos[1]])\n",
    "        #print(q_max)\n",
    "        q_max = np.amax(q_max)\n",
    "        \n",
    "        \n",
    "        q_old = self.q_functions[action_index, self.position[0], self.position[1]]\n",
    "        self.q_functions[action_index, self.position[0], self.position[1]] = q_old + self.alpha * ( reward + self.gamma * ( q_max - q_old ) )\n",
    "    \n",
    "    def update_position(self, action_index):\n",
    "        action = self.maze_env.action_list[action_index]\n",
    "        new_pos = self.position + action\n",
    "        if self.maze_env.maze[new_pos[0], new_pos[1]] == True:\n",
    "            \"\"\"Hit wall\"\"\"\n",
    "            pass\n",
    "        else:\n",
    "            self.position += action\n",
    "    \n",
    "class maze_env:\n",
    "    \n",
    "    def __init__(self, width=10, height=10):\n",
    "        \n",
    "        self.maze_shape = [width,height]\n",
    "        self.maze = maze(width=width, height=height)\n",
    "        \n",
    "        self.no_walls = np.argwhere( self.maze == False )\n",
    "        \n",
    "        indices = list(range(len(self.no_walls)))\n",
    "        random_index = np.random.choice(indices)\n",
    "        self.target = self.no_walls[random_index]\n",
    "        np.delete(self.no_walls, random_index)\n",
    "        \n",
    "        self.target_reward = 10.\n",
    "        self.action_list = [\n",
    "            [0,1],\n",
    "            [1,0],\n",
    "            [0,-1],\n",
    "            [-1,0]\n",
    "        ]\n",
    "    \n",
    "    def give_reward(self, position):\n",
    "        \n",
    "        if np.all(position == self.target):\n",
    "            return self.target_reward\n",
    "        else:\n",
    "            return 0.\n",
    "    \n",
    "    def set_agent(self, agent,position):\n",
    "        agent.position = position\n",
    "\n",
    "        \n",
    "    \"\"\" position = [x,y]\"\"\"\n",
    "    def set_target(self, position):\n",
    "        self.target = position\n",
    "        \n",
    "        self.target = position\n",
    "    \n",
    "    #def get_possible_actions(self, position):\n",
    "        \n",
    "    def get_random_pos(self, num_pos):\n",
    "        #np.random.seed = position\n",
    "        indices = list(range(len(self.no_walls)))\n",
    "        print(indices)\n",
    "        random_index = np.random.choice(indices, size=num_pos, replace=True)\n",
    "        random_pos = self.no_walls[random_index]\n",
    "        \n",
    "        return random_pos\n",
    "        "
   ]
  },
  {
   "cell_type": "code",
   "execution_count": 7,
   "metadata": {},
   "outputs": [
    {
     "data": {
      "text/plain": [
       "<matplotlib.image.AxesImage at 0x7fca0db81d68>"
      ]
     },
     "execution_count": 7,
     "metadata": {},
     "output_type": "execute_result"
    },
    {
     "data": {
      "image/png": "[encoded data removed]",
      "text/plain": [
       "<Figure size 432x288 with 1 Axes>"
      ]
     },
     "metadata": {},
     "output_type": "display_data"
    }
   ],
   "source": [
    "trajectory = []\n",
    "\n",
    "my_maze_env = maze_env(width=10, height=10)\n",
    "plt.imshow(my_maze_env.maze)\n"
   ]
  },
  {
   "cell_type": "code",
   "execution_count": null,
   "metadata": {},
   "outputs": [
    {
     "name": "stdout",
     "output_type": "stream",
     "text": [
      "[0, 1, 2, 3, 4, 5, 6, 7, 8, 9, 10, 11, 12, 13, 14, 15, 16, 17, 18, 19, 20, 21, 22, 23, 24, 25, 26, 27, 28, 29, 30, 31, 32, 33, 34, 35, 36, 37, 38, 39, 40, 41, 42, 43, 44, 45, 46, 47, 48, 49, 50, 51, 52]\n",
      "[5 2]\n",
      "[1 9]\n",
      "(11, 11)\n"
     ]
    },
    {
     "data": {
      "text/plain": [
       "<matplotlib.image.AxesImage at 0x7fca0b1ba9e8>"
      ]
     },
     "execution_count": 8,
     "metadata": {},
     "output_type": "execute_result"
    },
    {
     "data": {
      "image/png": "[encoded data removed]",
      "text/plain": [
       "<Figure size 432x288 with 1 Axes>"
      ]
     },
     "metadata": {},
     "output_type": "display_data"
    }
   ],
   "source": [
    "init_pos = my_maze_env.get_random_pos(1)[0]\n",
    "my_agent = agent(my_maze_env, init_pos)\n",
    "\n",
    "#init_pos = my_maze_env.get_random_pos(1)[0]\n",
    "\n",
    "my_maze_env.set_agent(my_agent,array(init_pos))\n",
    "\n",
    "image = np.array(my_maze_env.maze, dtype=int)\n",
    "print(init_pos)\n",
    "print(my_maze_env.target)\n",
    "image[init_pos[0], init_pos[1]] = 4\n",
    "image[my_maze_env.target[0], my_maze_env.target[1]] = 6\n",
    "print(image.shape)\n",
    "plt.imshow(image)"
   ]
  },
  {
   "cell_type": "code",
   "execution_count": null,
   "metadata": {},
   "outputs": [
    {
     "data": {
      "image/png": "[encoded data removed]",
      "text/plain": [
       "<Figure size 432x288 with 1 Axes>"
      ]
     },
     "metadata": {},
     "output_type": "display_data"
    }
   ],
   "source": [
    "random_steps = 0\n",
    "n_steps = 30000\n",
    "random_p = 0.2\n",
    "for i in range(n_steps):\n",
    "    #if i > random_steps:\n",
    "    #    random_p = 0.2\n",
    "    \n",
    "    action_i = my_agent.predict_action(random_p=random_p)\n",
    "    new_pos = my_agent.position + my_maze_env.action_list[action_i]\n",
    "    reward = my_maze_env.give_reward(new_pos)\n",
    "    my_agent.update_q(action_i, reward)\n",
    "    \n",
    "    old_pos = my_agent.position\n",
    "    my_agent.update_position(action_index=action_i)\n",
    "    new_pos = my_agent.position\n",
    "    \n",
    "    image = np.array(my_maze_env.maze, dtype=float)\n",
    "    if np.all(old_pos == new_pos):\n",
    "        agent_color = 3\n",
    "    else:\n",
    "        agent_color = 7\n",
    "    image[my_agent.position[0], my_agent.position[1]] = agent_color\n",
    "    image[my_maze_env.target[0], my_maze_env.target[1]] = 10\n",
    "    \n",
    "    q_max_mat = np.amax(my_agent.q_functions, axis=0)\n",
    "    image += q_max_mat\n",
    "    #print(q_max_mat)\n",
    "    \n",
    "    plt.imshow(image)\n",
    "    plt.show()\n",
    "    sleep(0.0001)\n",
    "    clear_output(wait=True)\n",
    "    \n",
    "    if np.all(my_agent.position == my_maze_env.target):\n",
    "        reset_pos = my_maze_env.get_random_pos(1)[0]\n",
    "        my_maze_env.set_agent(my_agent, reset_pos)"
   ]
  },
  {
   "cell_type": "code",
   "execution_count": null,
   "metadata": {},
   "outputs": [],
   "source": [
    "q_max_mat = np.amax(my_agent.q_functions, axis=0)\n",
    "print(q_max_mat)"
   ]
  },
  {
   "cell_type": "code",
   "execution_count": null,
   "metadata": {},
   "outputs": [],
   "source": []
  },
  {
   "cell_type": "code",
   "execution_count": null,
   "metadata": {},
   "outputs": [],
   "source": []
  },
  {
   "cell_type": "code",
   "execution_count": null,
   "metadata": {},
   "outputs": [],
   "source": []
  },
  {
   "cell_type": "code",
   "execution_count": null,
   "metadata": {},
   "outputs": [],
   "source": []
  },
  {
   "cell_type": "code",
   "execution_count": null,
   "metadata": {},
   "outputs": [],
   "source": []
  }
 ],
 "metadata": {
  "kernelspec": {
   "display_name": "Python 3",
   "language": "python",
   "name": "python3"
  },
  "language_info": {
   "codemirror_mode": {
    "name": "ipython",
    "version": 3
   },
   "file_extension": ".py",
   "mimetype": "text/x-python",
   "name": "python",
   "nbconvert_exporter": "python",
   "pygments_lexer": "ipython3",
   "version": "3.6.9"
  }
 },
 "nbformat": 4,
 "nbformat_minor": 4
}
