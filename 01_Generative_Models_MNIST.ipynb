{
  "nbformat": 4,
  "nbformat_minor": 0,
  "metadata": {
    "colab": {
      "name": "01_Generative_Models_MNIST.ipynb",
      "provenance": [],
      "collapsed_sections": [],
      "include_colab_link": true
    },
    "kernelspec": {
      "name": "python3",
      "display_name": "Python 3"
    },
    "accelerator": "GPU"
  },
  "cells": [
    {
      "cell_type": "markdown",
      "metadata": {
        "id": "view-in-github",
        "colab_type": "text"
      },
      "source": [
        "<a href=\"https://colab.research.google.com/github/srineeey/vienna_maze/blob/master/01_Generative_Models_MNIST.ipynb\" target=\"_parent\"><img src=\"https://colab.research.google.com/assets/colab-badge.svg\" alt=\"Open In Colab\"/></a>"
      ]
    },
    {
      "cell_type": "markdown",
      "metadata": {
        "id": "MRj7fg5AS7tO",
        "colab_type": "text"
      },
      "source": [
        "# Exercise: Generative Models"
      ]
    },
    {
      "cell_type": "markdown",
      "metadata": {
        "id": "ew14cGgXS6DA",
        "colab_type": "text"
      },
      "source": [
        "### Basic Setup"
      ]
    },
    {
      "cell_type": "markdown",
      "metadata": {
        "id": "TJtStn6pWCdw",
        "colab_type": "text"
      },
      "source": [
        "For using GPU: click on \"Edit\" > \"Notebook settings\" > \"Hardware accelerator\" > \"GPU\"."
      ]
    },
    {
      "cell_type": "code",
      "metadata": {
        "id": "Q7M1VtChTNFe",
        "colab_type": "code",
        "colab": {}
      },
      "source": [
        "import numpy as np\n",
        "import matplotlib.pyplot as plt\n",
        "\n",
        "import pandas\n",
        "\n",
        "import sklearn\n",
        "import sklearn.metrics as metrics\n",
        "import scipy.stats as stats\n",
        "\n",
        "import torch\n",
        "import torch.nn as nn\n",
        "import torch.nn.functional as F\n",
        "import torchvision"
      ],
      "execution_count": 0,
      "outputs": []
    },
    {
      "cell_type": "code",
      "metadata": {
        "id": "S0-7GINCTd-M",
        "colab_type": "code",
        "outputId": "026cf4c8-19b3-4e30-93e4-e9864784af78",
        "colab": {
          "base_uri": "https://localhost:8080/",
          "height": 34
        }
      },
      "source": [
        "# Make sure we have a GPU allocated\n",
        "device = torch.device('cuda' if torch.cuda.is_available() else 'cpu')  \n",
        "print(device) # The output should be 'cuda'"
      ],
      "execution_count": 2,
      "outputs": [
        {
          "output_type": "stream",
          "text": [
            "cuda\n"
          ],
          "name": "stdout"
        }
      ]
    },
    {
      "cell_type": "code",
      "metadata": {
        "id": "fFSjgQ_2Teeb",
        "colab_type": "code",
        "outputId": "0006f342-89ff-4d8e-b680-f89d4180227f",
        "colab": {
          "base_uri": "https://localhost:8080/",
          "height": 69
        }
      },
      "source": [
        "# Get the dataset\n",
        "# (fashion mnist training sample)\n",
        "fashion_mnist = torchvision.datasets.FashionMNIST(\".\", \n",
        "                                                  train=True,\n",
        "                                                  download=True)\n",
        "\n",
        "X = fashion_mnist.data\n",
        "X = X/256. # So values are between zero and one\n",
        "y = fashion_mnist.targets\n",
        "class_names = fashion_mnist.classes\n",
        "\n",
        "print(\"Shape of data:\", X.shape)\n",
        "print(\"Shape of labels:\", y.shape)\n",
        "print(\"Items in dataset:\", class_names)"
      ],
      "execution_count": 3,
      "outputs": [
        {
          "output_type": "stream",
          "text": [
            "Shape of data: torch.Size([60000, 28, 28])\n",
            "Shape of labels: torch.Size([60000])\n",
            "Items in dataset: ['T-shirt/top', 'Trouser', 'Pullover', 'Dress', 'Coat', 'Sandal', 'Shirt', 'Sneaker', 'Bag', 'Ankle boot']\n"
          ],
          "name": "stdout"
        }
      ]
    },
    {
      "cell_type": "code",
      "metadata": {
        "id": "qvMIrtzxTi-k",
        "colab_type": "code",
        "outputId": "7b9b3a50-e5a1-4412-fe3c-d6d9d0b57515",
        "colab": {
          "base_uri": "https://localhost:8080/",
          "height": 1000
        }
      },
      "source": [
        "# Display the first 10 images\n",
        "print(\"Here come 10 images of clothig items\")\n",
        "for i in range(10):\n",
        "    plt.axis('off')\n",
        "\n",
        "    image = X[i]\n",
        "    label = y[i]\n",
        "    \n",
        "    print(class_names[label])\n",
        "    \n",
        "    plt.imshow(image,cmap='Greys',interpolation='none')\n",
        "    plt.show()"
      ],
      "execution_count": 4,
      "outputs": [
        {
          "output_type": "stream",
          "text": [
            "Here come 10 images of clothig items\n",
            "Ankle boot\n"
          ],
          "name": "stdout"
        },
        {
          "output_type": "display_data",
          "data": {
            "image/png": "[encoded data removed]",
            "text/plain": [
              "<Figure size 432x288 with 1 Axes>"
            ]
          },
          "metadata": {
            "tags": []
          }
        },
        {
          "output_type": "stream",
          "text": [
            "T-shirt/top\n"
          ],
          "name": "stdout"
        },
        {
          "output_type": "display_data",
          "data": {
            "image/png": "[encoded data removed]",
            "text/plain": [
              "<Figure size 432x288 with 1 Axes>"
            ]
          },
          "metadata": {
            "tags": []
          }
        },
        {
          "output_type": "stream",
          "text": [
            "T-shirt/top\n"
          ],
          "name": "stdout"
        },
        {
          "output_type": "display_data",
          "data": {
            "image/png": "[encoded data removed]",
            "text/plain": [
              "<Figure size 432x288 with 1 Axes>"
            ]
          },
          "metadata": {
            "tags": []
          }
        },
        {
          "output_type": "stream",
          "text": [
            "Dress\n"
          ],
          "name": "stdout"
        },
        {
          "output_type": "display_data",
          "data": {
            "image/png": "[encoded data removed]",
            "text/plain": [
              "<Figure size 432x288 with 1 Axes>"
            ]
          },
          "metadata": {
            "tags": []
          }
        },
        {
          "output_type": "stream",
          "text": [
            "T-shirt/top\n"
          ],
          "name": "stdout"
        },
        {
          "output_type": "display_data",
          "data": {
            "image/png": "[encoded data removed]",
            "text/plain": [
              "<Figure size 432x288 with 1 Axes>"
            ]
          },
          "metadata": {
            "tags": []
          }
        },
        {
          "output_type": "stream",
          "text": [
            "Pullover\n"
          ],
          "name": "stdout"
        },
        {
          "output_type": "display_data",
          "data": {
            "image/png": "[encoded data removed]",
            "text/plain": [
              "<Figure size 432x288 with 1 Axes>"
            ]
          },
          "metadata": {
            "tags": []
          }
        },
        {
          "output_type": "stream",
          "text": [
            "Sneaker\n"
          ],
          "name": "stdout"
        },
        {
          "output_type": "display_data",
          "data": {
            "image/png": "[encoded data removed]",
            "text/plain": [
              "<Figure size 432x288 with 1 Axes>"
            ]
          },
          "metadata": {
            "tags": []
          }
        },
        {
          "output_type": "stream",
          "text": [
            "Pullover\n"
          ],
          "name": "stdout"
        },
        {
          "output_type": "display_data",
          "data": {
            "image/png": "[encoded data removed]",
            "text/plain": [
              "<Figure size 432x288 with 1 Axes>"
            ]
          },
          "metadata": {
            "tags": []
          }
        },
        {
          "output_type": "stream",
          "text": [
            "Sandal\n"
          ],
          "name": "stdout"
        },
        {
          "output_type": "display_data",
          "data": {
            "image/png": "[encoded data removed]",
            "text/plain": [
              "<Figure size 432x288 with 1 Axes>"
            ]
          },
          "metadata": {
            "tags": []
          }
        },
        {
          "output_type": "stream",
          "text": [
            "Sandal\n"
          ],
          "name": "stdout"
        },
        {
          "output_type": "display_data",
          "data": {
            "image/png": "[encoded data removed]",
            "text/plain": [
              "<Figure size 432x288 with 1 Axes>"
            ]
          },
          "metadata": {
            "tags": []
          }
        }
      ]
    },
    {
      "cell_type": "markdown",
      "metadata": {
        "id": "caqh0KGGmeBL",
        "colab_type": "text"
      },
      "source": [
        "# Exercises"
      ]
    },
    {
      "cell_type": "code",
      "metadata": {
        "id": "0QkcnkpDTmy3",
        "colab_type": "code",
        "colab": {}
      },
      "source": [
        "# A few useful functions\n",
        "\n",
        "# Define here the output size of your image. For this dataset, 28x28\n",
        "n_pix = 28\n",
        "\n",
        "# Produce random numbers as input for generator\n",
        "# torch.randn produces random numbers following \n",
        "# a Gaussian with mean=0 and sigma=1\n",
        "def noise(size):\n",
        "    return torch.autograd.Variable(torch.randn(size, 100))\n",
        "\n",
        "# Translate images to flat vectors (784 = 28*28)\n",
        "def images_to_vectors(images):\n",
        "    return images.view(images.size(0), n_pix*n_pix)\n",
        "\n",
        "# Translate flat vectors to images in the format (color, vertical, horizontal)\n",
        "def vectors_to_images(vectors):\n",
        "    return vectors.view(vectors.size(0), n_pix, n_pix)\n",
        "  \n",
        "# Helper function to draw MNIST image\n",
        "# expect a 2D tensor as input\n",
        "def draw_image(im):\n",
        "    plt.imshow(im, cmap='Greys', interpolation='none')\n",
        "    plt.xticks([])\n",
        "    plt.yticks([])\n",
        "    plt.show()  \n",
        "  "
      ],
      "execution_count": 0,
      "outputs": []
    },
    {
      "cell_type": "markdown",
      "metadata": {
        "id": "7ouXgKpzTtrj",
        "colab_type": "text"
      },
      "source": [
        "### Exercise 1\n",
        "   * Find out how many examples of each class are in the data\n",
        "   * Plot images of 10 Sandals\n",
        "  \n"
      ]
    },
    {
      "cell_type": "code",
      "metadata": {
        "id": "QAv7EYW2wpeT",
        "colab_type": "code",
        "colab": {
          "base_uri": "https://localhost:8080/",
          "height": 69
        },
        "outputId": "998ab288-97ec-4425-f808-b4b3576a2e29"
      },
      "source": [
        "import pandas as pd\n",
        "y_np = y.cpu().numpy()\n",
        "print(y_np.shape)\n",
        "\n",
        "np.histogram(y_np)"
      ],
      "execution_count": 6,
      "outputs": [
        {
          "output_type": "stream",
          "text": [
            "(60000,)\n"
          ],
          "name": "stdout"
        },
        {
          "output_type": "execute_result",
          "data": {
            "text/plain": [
              "(array([6000, 6000, 6000, 6000, 6000, 6000, 6000, 6000, 6000, 6000]),\n",
              " array([0. , 0.9, 1.8, 2.7, 3.6, 4.5, 5.4, 6.3, 7.2, 8.1, 9. ]))"
            ]
          },
          "metadata": {
            "tags": []
          },
          "execution_count": 6
        }
      ]
    },
    {
      "cell_type": "code",
      "metadata": {
        "id": "z_8TF2r5u9za",
        "colab_type": "code",
        "colab": {
          "base_uri": "https://localhost:8080/",
          "height": 1000
        },
        "outputId": "c17eafc6-8f64-4b10-9020-d1713a019560"
      },
      "source": [
        "#print(X.shape)\n",
        "#print(y.shape)\n",
        "#class_names[y[i]]\n",
        "sandal_index = 5\n",
        "sandal_indices = np.argwhere(y == sandal_index)[0]\n",
        "print(sandal_indices.shape)\n",
        "for sandal_index in sandal_indices[0:10]:\n",
        "  print(sandal_index)\n",
        "  #print(X[sandal_index,:,:].shape)\n",
        "  draw_image(X[sandal_index])\n",
        "\n",
        "print(X[sandal_index])"
      ],
      "execution_count": 7,
      "outputs": [
        {
          "output_type": "stream",
          "text": [
            "torch.Size([6000])\n",
            "tensor(8)\n"
          ],
          "name": "stdout"
        },
        {
          "output_type": "display_data",
          "data": {
            "image/png": "[encoded data removed]",
            "text/plain": [
              "<Figure size 432x288 with 1 Axes>"
            ]
          },
          "metadata": {
            "tags": []
          }
        },
        {
          "output_type": "stream",
          "text": [
            "tensor(9)\n"
          ],
          "name": "stdout"
        },
        {
          "output_type": "display_data",
          "data": {
            "image/png": "[encoded data removed]",
            "text/plain": [
              "<Figure size 432x288 with 1 Axes>"
            ]
          },
          "metadata": {
            "tags": []
          }
        },
        {
          "output_type": "stream",
          "text": [
            "tensor(12)\n"
          ],
          "name": "stdout"
        },
        {
          "output_type": "display_data",
          "data": {
            "image/png": "[encoded data removed]",
            "text/plain": [
              "<Figure size 432x288 with 1 Axes>"
            ]
          },
          "metadata": {
            "tags": []
          }
        },
        {
          "output_type": "stream",
          "text": [
            "tensor(13)\n"
          ],
          "name": "stdout"
        },
        {
          "output_type": "display_data",
          "data": {
            "image/png": "[encoded data removed]",
            "text/plain": [
              "<Figure size 432x288 with 1 Axes>"
            ]
          },
          "metadata": {
            "tags": []
          }
        },
        {
          "output_type": "stream",
          "text": [
            "tensor(30)\n"
          ],
          "name": "stdout"
        },
        {
          "output_type": "display_data",
          "data": {
            "image/png": "[encoded data removed]",
            "text/plain": [
              "<Figure size 432x288 with 1 Axes>"
            ]
          },
          "metadata": {
            "tags": []
          }
        },
        {
          "output_type": "stream",
          "text": [
            "tensor(36)\n"
          ],
          "name": "stdout"
        },
        {
          "output_type": "display_data",
          "data": {
            "image/png": "[encoded data removed]",
            "text/plain": [
              "<Figure size 432x288 with 1 Axes>"
            ]
          },
          "metadata": {
            "tags": []
          }
        },
        {
          "output_type": "stream",
          "text": [
            "tensor(43)\n"
          ],
          "name": "stdout"
        },
        {
          "output_type": "display_data",
          "data": {
            "image/png": "[encoded data removed]",
            "text/plain": [
              "<Figure size 432x288 with 1 Axes>"
            ]
          },
          "metadata": {
            "tags": []
          }
        },
        {
          "output_type": "stream",
          "text": [
            "tensor(60)\n"
          ],
          "name": "stdout"
        },
        {
          "output_type": "display_data",
          "data": {
            "image/png": "[encoded data removed]",
            "text/plain": [
              "<Figure size 432x288 with 1 Axes>"
            ]
          },
          "metadata": {
            "tags": []
          }
        },
        {
          "output_type": "stream",
          "text": [
            "tensor(62)\n"
          ],
          "name": "stdout"
        },
        {
          "output_type": "display_data",
          "data": {
            "image/png": "[encoded data removed]",
            "text/plain": [
              "<Figure size 432x288 with 1 Axes>"
            ]
          },
          "metadata": {
            "tags": []
          }
        },
        {
          "output_type": "stream",
          "text": [
            "tensor(63)\n"
          ],
          "name": "stdout"
        },
        {
          "output_type": "display_data",
          "data": {
            "image/png": "[encoded data removed]",
            "text/plain": [
              "<Figure size 432x288 with 1 Axes>"
            ]
          },
          "metadata": {
            "tags": []
          }
        },
        {
          "output_type": "stream",
          "text": [
            "tensor([[0.0000, 0.0000, 0.0000, 0.0000, 0.0000, 0.0000, 0.0000, 0.0000, 0.0000,\n",
            "         0.0000, 0.0000, 0.0000, 0.0000, 0.0000, 0.0000, 0.0000, 0.0000, 0.0000,\n",
            "         0.0000, 0.0000, 0.0000, 0.0000, 0.0000, 0.0000, 0.0000, 0.0000, 0.0000,\n",
            "         0.0000],\n",
            "        [0.0000, 0.0000, 0.0000, 0.0000, 0.0000, 0.0000, 0.0000, 0.0000, 0.0000,\n",
            "         0.0000, 0.0000, 0.0000, 0.0000, 0.0000, 0.0000, 0.0000, 0.0000, 0.0000,\n",
            "         0.0000, 0.0000, 0.0000, 0.0000, 0.0000, 0.0000, 0.0000, 0.0000, 0.0000,\n",
            "         0.0000],\n",
            "        [0.0000, 0.0000, 0.0000, 0.0000, 0.0000, 0.0000, 0.0000, 0.0000, 0.0000,\n",
            "         0.0000, 0.0000, 0.0000, 0.0000, 0.0000, 0.0000, 0.0000, 0.0000, 0.0000,\n",
            "         0.0000, 0.0000, 0.0000, 0.0000, 0.0000, 0.0000, 0.0000, 0.0000, 0.0000,\n",
            "         0.0000],\n",
            "        [0.0000, 0.0000, 0.0000, 0.0000, 0.0000, 0.0000, 0.0000, 0.0000, 0.0000,\n",
            "         0.0000, 0.0000, 0.0000, 0.0000, 0.0000, 0.0000, 0.0000, 0.0000, 0.0000,\n",
            "         0.0000, 0.0000, 0.0000, 0.0000, 0.0000, 0.0000, 0.0000, 0.0000, 0.0000,\n",
            "         0.0000],\n",
            "        [0.0000, 0.0000, 0.0000, 0.0000, 0.0000, 0.0000, 0.0000, 0.0000, 0.0000,\n",
            "         0.0000, 0.0000, 0.0000, 0.0000, 0.0000, 0.0000, 0.0000, 0.0000, 0.0000,\n",
            "         0.0000, 0.0000, 0.0000, 0.0000, 0.0000, 0.0000, 0.0000, 0.0000, 0.0000,\n",
            "         0.0000],\n",
            "        [0.0000, 0.0000, 0.0000, 0.0000, 0.0000, 0.0000, 0.0000, 0.0000, 0.0000,\n",
            "         0.0000, 0.0000, 0.0000, 0.0000, 0.0000, 0.0000, 0.0000, 0.0000, 0.0000,\n",
            "         0.0000, 0.0000, 0.0000, 0.0000, 0.0000, 0.0000, 0.0000, 0.0000, 0.0000,\n",
            "         0.0000],\n",
            "        [0.0000, 0.0000, 0.0000, 0.0000, 0.0000, 0.0000, 0.0000, 0.0000, 0.0000,\n",
            "         0.0000, 0.0000, 0.0000, 0.0000, 0.0000, 0.0000, 0.0000, 0.0000, 0.0000,\n",
            "         0.0000, 0.0000, 0.0000, 0.0000, 0.0000, 0.0000, 0.0000, 0.0000, 0.0000,\n",
            "         0.0000],\n",
            "        [0.0000, 0.0000, 0.0000, 0.0000, 0.0000, 0.0000, 0.0000, 0.0000, 0.0000,\n",
            "         0.0000, 0.0000, 0.0000, 0.0000, 0.0000, 0.0000, 0.0000, 0.0000, 0.0000,\n",
            "         0.0000, 0.0000, 0.0000, 0.0000, 0.0000, 0.0000, 0.0000, 0.0000, 0.0000,\n",
            "         0.0000],\n",
            "        [0.0000, 0.0000, 0.0000, 0.0000, 0.0000, 0.0000, 0.0000, 0.0000, 0.0000,\n",
            "         0.0000, 0.0000, 0.0000, 0.0000, 0.0000, 0.0000, 0.0000, 0.0000, 0.0000,\n",
            "         0.0000, 0.0000, 0.0000, 0.0000, 0.0000, 0.0000, 0.0000, 0.0000, 0.0000,\n",
            "         0.0000],\n",
            "        [0.0000, 0.0000, 0.0000, 0.0000, 0.0000, 0.0000, 0.0000, 0.0000, 0.0000,\n",
            "         0.0000, 0.0000, 0.0000, 0.0000, 0.0000, 0.0000, 0.0000, 0.0000, 0.0000,\n",
            "         0.0000, 0.0000, 0.0000, 0.0000, 0.0000, 0.0000, 0.0000, 0.0000, 0.0000,\n",
            "         0.0000],\n",
            "        [0.0000, 0.0000, 0.0000, 0.0000, 0.0000, 0.0000, 0.0000, 0.0000, 0.0000,\n",
            "         0.0000, 0.0000, 0.0000, 0.0000, 0.0000, 0.0000, 0.0000, 0.0000, 0.0000,\n",
            "         0.0000, 0.0000, 0.0000, 0.0000, 0.0000, 0.0000, 0.0000, 0.0000, 0.0000,\n",
            "         0.0000],\n",
            "        [0.0000, 0.0000, 0.0000, 0.0000, 0.0000, 0.0000, 0.0000, 0.3008, 0.4531,\n",
            "         0.5547, 0.6250, 0.6250, 0.7305, 0.6641, 0.5352, 0.4688, 0.1992, 0.0000,\n",
            "         0.0000, 0.0000, 0.0000, 0.0000, 0.0000, 0.0000, 0.0000, 0.0039, 0.0000,\n",
            "         0.0000],\n",
            "        [0.0000, 0.0000, 0.0000, 0.0039, 0.0000, 0.4023, 0.7539, 0.8555, 0.6094,\n",
            "         0.2031, 0.0234, 0.0508, 0.4492, 0.9961, 0.8125, 0.5781, 0.6562, 0.6211,\n",
            "         0.0000, 0.0000, 0.0000, 0.0000, 0.0039, 0.0039, 0.0039, 0.0039, 0.0039,\n",
            "         0.0000],\n",
            "        [0.0000, 0.0000, 0.0000, 0.0000, 0.1602, 0.7031, 0.0000, 0.0000, 0.0000,\n",
            "         0.0000, 0.0000, 0.0000, 0.0000, 0.0000, 0.3594, 0.8398, 0.6406, 0.7930,\n",
            "         0.5898, 0.0000, 0.0000, 0.0000, 0.0000, 0.0000, 0.0000, 0.0000, 0.0000,\n",
            "         0.0000],\n",
            "        [0.0781, 0.1328, 0.1172, 0.0000, 0.6680, 0.3516, 0.0000, 0.0273, 0.0781,\n",
            "         0.0586, 0.0742, 0.0859, 0.0664, 0.0039, 0.0000, 0.0000, 0.0469, 0.4805,\n",
            "         0.9609, 0.5195, 0.0000, 0.0781, 0.0469, 0.0742, 0.0742, 0.0820, 0.0898,\n",
            "         0.0469],\n",
            "        [0.0938, 0.1445, 0.1367, 0.1445, 0.0742, 0.0781, 0.1602, 0.1680, 0.1523,\n",
            "         0.1562, 0.1445, 0.1445, 0.1445, 0.1523, 0.1719, 0.1367, 0.0586, 0.0586,\n",
            "         0.0430, 0.0430, 0.1133, 0.1250, 0.1367, 0.1367, 0.1484, 0.1602, 0.1914,\n",
            "         0.1328],\n",
            "        [0.0000, 0.0156, 0.0391, 0.0312, 0.0469, 0.0742, 0.0586, 0.0781, 0.0781,\n",
            "         0.0859, 0.0859, 0.0820, 0.0820, 0.1016, 0.0820, 0.0898, 0.1016, 0.0859,\n",
            "         0.0625, 0.0898, 0.1250, 0.1133, 0.1367, 0.1445, 0.1367, 0.1328, 0.1523,\n",
            "         0.0664],\n",
            "        [0.0000, 0.0000, 0.0000, 0.0000, 0.0000, 0.0000, 0.0000, 0.0000, 0.0000,\n",
            "         0.0000, 0.0000, 0.0000, 0.0000, 0.0000, 0.0000, 0.0000, 0.0000, 0.0000,\n",
            "         0.0000, 0.0000, 0.0000, 0.0000, 0.0000, 0.0000, 0.0000, 0.0000, 0.0000,\n",
            "         0.0000],\n",
            "        [0.0000, 0.0000, 0.0000, 0.0000, 0.0000, 0.0000, 0.0000, 0.0000, 0.0000,\n",
            "         0.0000, 0.0000, 0.0000, 0.0000, 0.0000, 0.0000, 0.0000, 0.0000, 0.0000,\n",
            "         0.0000, 0.0000, 0.0000, 0.0000, 0.0000, 0.0000, 0.0000, 0.0000, 0.0000,\n",
            "         0.0000],\n",
            "        [0.0000, 0.0000, 0.0000, 0.0000, 0.0000, 0.0000, 0.0000, 0.0000, 0.0000,\n",
            "         0.0000, 0.0000, 0.0000, 0.0000, 0.0000, 0.0000, 0.0000, 0.0000, 0.0000,\n",
            "         0.0000, 0.0000, 0.0000, 0.0000, 0.0000, 0.0000, 0.0000, 0.0000, 0.0000,\n",
            "         0.0000],\n",
            "        [0.0000, 0.0000, 0.0000, 0.0000, 0.0000, 0.0000, 0.0000, 0.0000, 0.0000,\n",
            "         0.0000, 0.0000, 0.0000, 0.0000, 0.0000, 0.0000, 0.0000, 0.0000, 0.0000,\n",
            "         0.0000, 0.0000, 0.0000, 0.0000, 0.0000, 0.0000, 0.0000, 0.0000, 0.0000,\n",
            "         0.0000],\n",
            "        [0.0000, 0.0000, 0.0000, 0.0000, 0.0000, 0.0000, 0.0000, 0.0000, 0.0000,\n",
            "         0.0000, 0.0000, 0.0000, 0.0000, 0.0000, 0.0000, 0.0000, 0.0000, 0.0000,\n",
            "         0.0000, 0.0000, 0.0000, 0.0000, 0.0000, 0.0000, 0.0000, 0.0000, 0.0000,\n",
            "         0.0000],\n",
            "        [0.0000, 0.0000, 0.0000, 0.0000, 0.0000, 0.0000, 0.0000, 0.0000, 0.0000,\n",
            "         0.0000, 0.0000, 0.0000, 0.0000, 0.0000, 0.0000, 0.0000, 0.0000, 0.0000,\n",
            "         0.0000, 0.0000, 0.0000, 0.0000, 0.0000, 0.0000, 0.0000, 0.0000, 0.0000,\n",
            "         0.0000],\n",
            "        [0.0000, 0.0000, 0.0000, 0.0000, 0.0000, 0.0000, 0.0000, 0.0000, 0.0000,\n",
            "         0.0000, 0.0000, 0.0000, 0.0000, 0.0000, 0.0000, 0.0000, 0.0000, 0.0000,\n",
            "         0.0000, 0.0000, 0.0000, 0.0000, 0.0000, 0.0000, 0.0000, 0.0000, 0.0000,\n",
            "         0.0000],\n",
            "        [0.0000, 0.0000, 0.0000, 0.0000, 0.0000, 0.0000, 0.0000, 0.0000, 0.0000,\n",
            "         0.0000, 0.0000, 0.0000, 0.0000, 0.0000, 0.0000, 0.0000, 0.0000, 0.0000,\n",
            "         0.0000, 0.0000, 0.0000, 0.0000, 0.0000, 0.0000, 0.0000, 0.0000, 0.0000,\n",
            "         0.0000],\n",
            "        [0.0000, 0.0000, 0.0000, 0.0000, 0.0000, 0.0000, 0.0000, 0.0000, 0.0000,\n",
            "         0.0000, 0.0000, 0.0000, 0.0000, 0.0000, 0.0000, 0.0000, 0.0000, 0.0000,\n",
            "         0.0000, 0.0000, 0.0000, 0.0000, 0.0000, 0.0000, 0.0000, 0.0000, 0.0000,\n",
            "         0.0000],\n",
            "        [0.0000, 0.0000, 0.0000, 0.0000, 0.0000, 0.0000, 0.0000, 0.0000, 0.0000,\n",
            "         0.0000, 0.0000, 0.0000, 0.0000, 0.0000, 0.0000, 0.0000, 0.0000, 0.0000,\n",
            "         0.0000, 0.0000, 0.0000, 0.0000, 0.0000, 0.0000, 0.0000, 0.0000, 0.0000,\n",
            "         0.0000],\n",
            "        [0.0000, 0.0000, 0.0000, 0.0000, 0.0000, 0.0000, 0.0000, 0.0000, 0.0000,\n",
            "         0.0000, 0.0000, 0.0000, 0.0000, 0.0000, 0.0000, 0.0000, 0.0000, 0.0000,\n",
            "         0.0000, 0.0000, 0.0000, 0.0000, 0.0000, 0.0000, 0.0000, 0.0000, 0.0000,\n",
            "         0.0000]])\n"
          ],
          "name": "stdout"
        }
      ]
    },
    {
      "cell_type": "markdown",
      "metadata": {
        "id": "Ecw4f1Nykktx",
        "colab_type": "text"
      },
      "source": [
        "### Exercise 2\n",
        "\n",
        "* Implement the generator and discriminator networks and use them to train a generative model for Fashion-MNIST. The code below almost works, but you will need to add the layers (marked with #TODO)"
      ]
    },
    {
      "cell_type": "markdown",
      "metadata": {
        "id": "jfqE-KHgklBg",
        "colab_type": "text"
      },
      "source": [
        "### Exercise 3\n",
        "\n",
        "  * The code for the VAE is fully functional but will not do a very good job. Run the VAE and observe the results it produced\n",
        "    \n",
        "  * Fix the following two issues: a) The loss function is missing the KL-Divergence term that ensures the latent space distribution to be Gaussian with the correct parameters. b) The network architecture is seriously underpowered. More comments in the code below Then retrain the VAE\n",
        "  \n",
        "  * Plot the distribution of the latent space variables after training. Are they Gaussian?"
      ]
    },
    {
      "cell_type": "markdown",
      "metadata": {
        "id": "KIxZgmiTklPG",
        "colab_type": "text"
      },
      "source": [
        "### Exercise 4\n",
        "\n",
        "  * Comparing the results from GAN and VAE, what do you observe?\n"
      ]
    },
    {
      "cell_type": "markdown",
      "metadata": {
        "id": "fuuvDcc6UDRA",
        "colab_type": "text"
      },
      "source": [
        "### GAN Networks"
      ]
    },
    {
      "cell_type": "code",
      "metadata": {
        "id": "hnd7NKg5UAqy",
        "colab_type": "code",
        "colab": {}
      },
      "source": [
        "class DiscriminatorNet(torch.nn.Module):\n",
        "\n",
        "  def __init__(self):\n",
        "        super(DiscriminatorNet, self).__init__()\n",
        "\n",
        "        self.main = nn.Sequential(\n",
        "            \n",
        "            # This is technically working but it's sub-optimal\n",
        "            # TODO: add more layers\n",
        "            # remember to avoid overfitting\n",
        "            nn.Conv2d(1, 4, 3, 1, 0,bias=False),\n",
        "            nn.ReLU(),\n",
        "            nn.Conv2d(4, 8, 3, 1, 0,bias=False),\n",
        "            nn.ReLU(),\n",
        "            #nn.Dropout2d(p=0.2),\n",
        "            nn.Conv2d(8, 16, 5, 1, 0,bias=False),\n",
        "            nn.MaxPool2d(2),\n",
        "            nn.Conv2d(16, 32, 3, 1, 0,bias=False),\n",
        "            nn.MaxPool2d(2),\n",
        "            nn.Flatten(),\n",
        "            nn.Dropout(p=0.3),\n",
        "            nn.Linear(4*4*32, 4*2*32),\n",
        "            nn.ReLU(),\n",
        "            nn.Linear(4*2*32, 1),\n",
        "            nn.Sigmoid(),\n",
        "        )\n",
        "\n",
        "  def forward(self, x):\n",
        "\n",
        "        # Add a color layer - important if we want to use Conv2D\n",
        "        x = x.view(-1,1,n_pix,n_pix)\n",
        "     \n",
        "        output = self.main(x)\n",
        "       \n",
        "        return output\n",
        "\n",
        "    \n",
        "class GeneratorNet(torch.nn.Module):\n",
        "    \"\"\"\n",
        "    The generative neural network. \n",
        "    \"\"\"\n",
        "        \n",
        "    def __init__(self):\n",
        "        super(GeneratorNet, self).__init__()\n",
        "        \n",
        "        self.main = nn.Sequential(\n",
        "            # This is technically working but it's sub-optimal\n",
        "            # TODO: add more layers\n",
        "            # remember to avoid overfitting\n",
        "            nn.ConvTranspose2d(100, 50, 4, 1, 0, bias=False),      \n",
        "            nn.Sigmoid(),  \n",
        "            nn.ConvTranspose2d(50, 50, 4, 1, 0, bias=False),      \n",
        "            nn.Tanh(),\n",
        "            #nn.Dropout(),\n",
        "            nn.ConvTranspose2d(50, 25, 5, 1, 0, bias=False),     \n",
        "            nn.Sigmoid(),  \n",
        "            nn.ConvTranspose2d(25, 25, 5, 1, 0, bias=False),      \n",
        "            nn.Tanh(),  \n",
        "            nn.ConvTranspose2d(25, 5, 7, 1, 0, bias=False),      \n",
        "            nn.Sigmoid(),  \n",
        "            nn.ConvTranspose2d(5, 1, 8, 1, 0, bias=False),      \n",
        "            nn.Sigmoid(),      \n",
        "        )\n",
        "           \n",
        "    \n",
        "    def forward(self, x):\n",
        "        # forward pass of the network\n",
        "        \n",
        "        # Reshape input tensor to (batch size, 100, 1, 1)\n",
        "        x = x.view(-1,100,1,1)\n",
        "        # Apply the network\n",
        "        x = self.main(x)\n",
        "        # Reshape to image\n",
        "        #print(x.shape)\n",
        "        x = x.view(-1,n_pix*n_pix)\n",
        "    \n",
        "        return x\n",
        "      \n",
        "      \n",
        "discriminator = DiscriminatorNet().to(device)\n",
        "generator = GeneratorNet().to(device)\n",
        "\n",
        "d_optimizer = torch.optim.Adam(discriminator.parameters(), lr=0.0001,betas=(0.5,0.999))\n",
        "g_optimizer = torch.optim.Adam(generator.parameters(), lr=0.0002,betas=(0.5,0.999))\n",
        "\n",
        "loss = nn.BCELoss() # Binary cross entropy loss function"
      ],
      "execution_count": 0,
      "outputs": []
    },
    {
      "cell_type": "markdown",
      "metadata": {
        "id": "lUVw8JCvURSe",
        "colab_type": "text"
      },
      "source": [
        "### GAN Training"
      ]
    },
    {
      "cell_type": "code",
      "metadata": {
        "id": "gUtpsG1gUGYY",
        "colab_type": "code",
        "colab": {
          "base_uri": "https://localhost:8080/",
          "height": 1000
        },
        "outputId": "2e288ba8-201a-496e-b40e-aeed1f3b2086"
      },
      "source": [
        "# The code below handles the training and evaluation of the GAN\n",
        "\n",
        "batch_size = 50\n",
        "\n",
        "max_batches = int(X.shape[0] / batch_size)\n",
        "\n",
        "# Total number of epochs to train\n",
        "n_epochs = 200 # start with one epoch (you will want to increase this number)\n",
        "\n",
        "# Loop over epochs\n",
        "for epoch in range(n_epochs):\n",
        "    \n",
        "    # Loop over training examples\n",
        "    for i_batch in range(max_batches):\n",
        "\n",
        "      \n",
        "        real_batch = X[i_batch*batch_size:(i_batch+1)*batch_size].cuda()\n",
        "      \n",
        "        # Batch size\n",
        "        N = real_batch.size(0)\n",
        "        \n",
        "        # First Train Discriminator\n",
        "        real_data = torch.autograd.Variable(images_to_vectors(real_batch))\n",
        "        \n",
        "        # Generate fake data\n",
        "        fake_data = generator(noise(N).cuda())\n",
        "        #print(fake_data.shape)\n",
        "\n",
        "        # Reset gradient\n",
        "        d_optimizer.zero_grad()\n",
        "    \n",
        "        # Train discriminator on real data\n",
        "        prediction_real = discriminator(real_data)\n",
        "\n",
        "        # Calculate error and backpropagate\n",
        "        # We want the discriminator to report \"1\" for real images\n",
        "        ones = torch.autograd.Variable(torch.ones(N, 1)).cuda()\n",
        "        error_real = loss(prediction_real, ones)\n",
        "        error_real.backward()\n",
        "\n",
        "        # Train discriminator on fake data\n",
        "        prediction_fake = discriminator(fake_data.detach())\n",
        "        \n",
        "        # Calculate error and backpropagate\n",
        "        # We want the discriminator to report \"0\" for fake images\n",
        "        zeros =  torch.autograd.Variable(torch.zeros(N, 1)).cuda()\n",
        "        error_fake = loss(prediction_fake, zeros)\n",
        "        error_fake.backward()\n",
        "\n",
        "        # Total discriminator error\n",
        "        d_error =  error_real + error_fake\n",
        "\n",
        "        # Update weights with gradients\n",
        "        d_optimizer.step()\n",
        "        \n",
        "        # Train Generator\n",
        "        # Generate fake data\n",
        "        fake_data = generator(noise(N).cuda())\n",
        "\n",
        "        # Reset gradients\n",
        "        g_optimizer.zero_grad()\n",
        "\n",
        "        # Sample noise and generate fake data\n",
        "        prediction = discriminator(fake_data)\n",
        "\n",
        "        # Calculate error and backpropagate\n",
        "        # instead of maximising the loss for zeros we minimise the loss for ones\n",
        "        ones = torch.autograd.Variable(torch.ones(N, 1)).cuda()\n",
        "        g_error = loss(prediction, ones)\n",
        "        g_error.backward()\n",
        "\n",
        "        \n",
        "        # Update weights with gradients\n",
        "        g_optimizer.step()\n",
        "\n",
        "        # Show status every few batches\n",
        "        if (i_batch) % 500 == 0: \n",
        "                        \n",
        "            test_images = vectors_to_images(generator(noise(1).cuda()).cpu())\n",
        "            test_images = test_images.data\n",
        "            print(\"Epoch: {0}, Batch: {1}, Error D: {2}, Error G: {3}\".format(epoch,i_batch,d_error,g_error))\n",
        "            draw_image(test_images[0])"
      ],
      "execution_count": 11,
      "outputs": [
        {
          "output_type": "stream",
          "text": [
            "Epoch: 0, Batch: 0, Error D: 1.3870689868927002, Error G: 0.7149374485015869\n"
          ],
          "name": "stdout"
        },
        {
          "output_type": "display_data",
          "data": {
            "image/png": "[encoded data removed]",
            "text/plain": [
              "<Figure size 432x288 with 1 Axes>"
            ]
          },
          "metadata": {
            "tags": []
          }
        },
        {
          "output_type": "stream",
          "text": [
            "Epoch: 0, Batch: 500, Error D: 0.597938060760498, Error G: 1.405514121055603\n"
          ],
          "name": "stdout"
        },
        {
          "output_type": "display_data",
          "data": {
            "image/png": "[encoded data removed]",
            "text/plain": [
              "<Figure size 432x288 with 1 Axes>"
            ]
          },
          "metadata": {
            "tags": []
          }
        },
        {
          "output_type": "stream",
          "text": [
            "Epoch: 0, Batch: 1000, Error D: 0.42907893657684326, Error G: 1.7228924036026\n"
          ],
          "name": "stdout"
        },
        {
          "output_type": "display_data",
          "data": {
            "image/png": "[encoded data removed]",
            "text/plain": [
              "<Figure size 432x288 with 1 Axes>"
            ]
          },
          "metadata": {
            "tags": []
          }
        },
        {
          "output_type": "stream",
          "text": [
            "Epoch: 1, Batch: 0, Error D: 0.32272061705589294, Error G: 1.9073454141616821\n"
          ],
          "name": "stdout"
        },
        {
          "output_type": "display_data",
          "data": {
            "image/png": "[encoded data removed]",
            "text/plain": [
              "<Figure size 432x288 with 1 Axes>"
            ]
          },
          "metadata": {
            "tags": []
          }
        },
        {
          "output_type": "stream",
          "text": [
            "Epoch: 1, Batch: 500, Error D: 0.14630109071731567, Error G: 2.2306149005889893\n"
          ],
          "name": "stdout"
        },
        {
          "output_type": "display_data",
          "data": {
            "image/png": "[encoded data removed]",
            "text/plain": [
              "<Figure size 432x288 with 1 Axes>"
            ]
          },
          "metadata": {
            "tags": []
          }
        },
        {
          "output_type": "stream",
          "text": [
            "Epoch: 1, Batch: 1000, Error D: 1.432483434677124, Error G: 2.0822720527648926\n"
          ],
          "name": "stdout"
        },
        {
          "output_type": "display_data",
          "data": {
            "image/png": "[encoded data removed]",
            "text/plain": [
              "<Figure size 432x288 with 1 Axes>"
            ]
          },
          "metadata": {
            "tags": []
          }
        },
        {
          "output_type": "stream",
          "text": [
            "Epoch: 2, Batch: 0, Error D: 0.3835275173187256, Error G: 1.9504565000534058\n"
          ],
          "name": "stdout"
        },
        {
          "output_type": "display_data",
          "data": {
            "image/png": "[encoded data removed]",
            "text/plain": [
              "<Figure size 432x288 with 1 Axes>"
            ]
          },
          "metadata": {
            "tags": []
          }
        },
        {
          "output_type": "stream",
          "text": [
            "Epoch: 2, Batch: 500, Error D: 0.6517075300216675, Error G: 1.8201864957809448\n"
          ],
          "name": "stdout"
        },
        {
          "output_type": "display_data",
          "data": {
            "image/png": "[encoded data removed]",
            "text/plain": [
              "<Figure size 432x288 with 1 Axes>"
            ]
          },
          "metadata": {
            "tags": []
          }
        },
        {
          "output_type": "stream",
          "text": [
            "Epoch: 2, Batch: 1000, Error D: 0.24690310657024384, Error G: 1.8239200115203857\n"
          ],
          "name": "stdout"
        },
        {
          "output_type": "display_data",
          "data": {
            "image/png": "[encoded data removed]",
            "text/plain": [
              "<Figure size 432x288 with 1 Axes>"
            ]
          },
          "metadata": {
            "tags": []
          }
        },
        {
          "output_type": "stream",
          "text": [
            "Epoch: 3, Batch: 0, Error D: 0.19644536077976227, Error G: 3.616658926010132\n"
          ],
          "name": "stdout"
        },
        {
          "output_type": "display_data",
          "data": {
            "image/png": "[encoded data removed]",
            "text/plain": [
              "<Figure size 432x288 with 1 Axes>"
            ]
          },
          "metadata": {
            "tags": []
          }
        },
        {
          "output_type": "stream",
          "text": [
            "Epoch: 3, Batch: 500, Error D: 0.3106576204299927, Error G: 2.253514289855957\n"
          ],
          "name": "stdout"
        },
        {
          "output_type": "display_data",
          "data": {
            "image/png": "[encoded data removed]",
            "text/plain": [
              "<Figure size 432x288 with 1 Axes>"
            ]
          },
          "metadata": {
            "tags": []
          }
        },
        {
          "output_type": "stream",
          "text": [
            "Epoch: 3, Batch: 1000, Error D: 0.14422962069511414, Error G: 2.923083782196045\n"
          ],
          "name": "stdout"
        },
        {
          "output_type": "display_data",
          "data": {
            "image/png": "[encoded data removed]",
            "text/plain": [
              "<Figure size 432x288 with 1 Axes>"
            ]
          },
          "metadata": {
            "tags": []
          }
        },
        {
          "output_type": "stream",
          "text": [
            "Epoch: 4, Batch: 0, Error D: 0.0460502952337265, Error G: 5.664085865020752\n"
          ],
          "name": "stdout"
        },
        {
          "output_type": "display_data",
          "data": {
            "image/png": "[encoded data removed]",
            "text/plain": [
              "<Figure size 432x288 with 1 Axes>"
            ]
          },
          "metadata": {
            "tags": []
          }
        },
        {
          "output_type": "stream",
          "text": [
            "Epoch: 4, Batch: 500, Error D: 0.2929811179637909, Error G: 2.795659065246582\n"
          ],
          "name": "stdout"
        },
        {
          "output_type": "display_data",
          "data": {
            "image/png": "[encoded data removed]",
            "text/plain": [
              "<Figure size 432x288 with 1 Axes>"
            ]
          },
          "metadata": {
            "tags": []
          }
        },
        {
          "output_type": "stream",
          "text": [
            "Epoch: 4, Batch: 1000, Error D: 0.17308059334754944, Error G: 3.4063074588775635\n"
          ],
          "name": "stdout"
        },
        {
          "output_type": "display_data",
          "data": {
            "image/png": "[encoded data removed]",
            "text/plain": [
              "<Figure size 432x288 with 1 Axes>"
            ]
          },
          "metadata": {
            "tags": []
          }
        },
        {
          "output_type": "stream",
          "text": [
            "Epoch: 5, Batch: 0, Error D: 0.056659337133169174, Error G: 3.1519742012023926\n"
          ],
          "name": "stdout"
        },
        {
          "output_type": "display_data",
          "data": {
            "image/png": "[encoded data removed]",
            "text/plain": [
              "<Figure size 432x288 with 1 Axes>"
            ]
          },
          "metadata": {
            "tags": []
          }
        },
        {
          "output_type": "stream",
          "text": [
            "Epoch: 5, Batch: 500, Error D: 0.25579139590263367, Error G: 3.7941079139709473\n"
          ],
          "name": "stdout"
        },
        {
          "output_type": "display_data",
          "data": {
            "image/png": "[encoded data removed]",
            "text/plain": [
              "<Figure size 432x288 with 1 Axes>"
            ]
          },
          "metadata": {
            "tags": []
          }
        },
        {
          "output_type": "stream",
          "text": [
            "Epoch: 5, Batch: 1000, Error D: 0.03468271717429161, Error G: 3.834886074066162\n"
          ],
          "name": "stdout"
        },
        {
          "output_type": "display_data",
          "data": {
            "image/png": "[encoded data removed]",
            "text/plain": [
              "<Figure size 432x288 with 1 Axes>"
            ]
          },
          "metadata": {
            "tags": []
          }
        },
        {
          "output_type": "stream",
          "text": [
            "Epoch: 6, Batch: 0, Error D: 0.1319694221019745, Error G: 3.3868401050567627\n"
          ],
          "name": "stdout"
        },
        {
          "output_type": "display_data",
          "data": {
            "image/png": "[encoded data removed]",
            "text/plain": [
              "<Figure size 432x288 with 1 Axes>"
            ]
          },
          "metadata": {
            "tags": []
          }
        },
        {
          "output_type": "stream",
          "text": [
            "Epoch: 6, Batch: 500, Error D: 0.1457671821117401, Error G: 3.2428882122039795\n"
          ],
          "name": "stdout"
        },
        {
          "output_type": "display_data",
          "data": {
            "image/png": "[encoded data removed]",
            "text/plain": [
              "<Figure size 432x288 with 1 Axes>"
            ]
          },
          "metadata": {
            "tags": []
          }
        },
        {
          "output_type": "stream",
          "text": [
            "Epoch: 6, Batch: 1000, Error D: 0.19451740384101868, Error G: 4.039983749389648\n"
          ],
          "name": "stdout"
        },
        {
          "output_type": "display_data",
          "data": {
            "image/png": "[encoded data removed]",
            "text/plain": [
              "<Figure size 432x288 with 1 Axes>"
            ]
          },
          "metadata": {
            "tags": []
          }
        },
        {
          "output_type": "stream",
          "text": [
            "Epoch: 7, Batch: 0, Error D: 0.2578084468841553, Error G: 2.7273504734039307\n"
          ],
          "name": "stdout"
        },
        {
          "output_type": "display_data",
          "data": {
            "image/png": "[encoded data removed]",
            "text/plain": [
              "<Figure size 432x288 with 1 Axes>"
            ]
          },
          "metadata": {
            "tags": []
          }
        },
        {
          "output_type": "stream",
          "text": [
            "Epoch: 7, Batch: 500, Error D: 0.13725152611732483, Error G: 3.1154797077178955\n"
          ],
          "name": "stdout"
        },
        {
          "output_type": "display_data",
          "data": {
            "image/png": "[encoded data removed]",
            "text/plain": [
              "<Figure size 432x288 with 1 Axes>"
            ]
          },
          "metadata": {
            "tags": []
          }
        },
        {
          "output_type": "stream",
          "text": [
            "Epoch: 7, Batch: 1000, Error D: 0.011430283077061176, Error G: 5.210101127624512\n"
          ],
          "name": "stdout"
        },
        {
          "output_type": "display_data",
          "data": {
            "image/png": "[encoded data removed]",
            "text/plain": [
              "<Figure size 432x288 with 1 Axes>"
            ]
          },
          "metadata": {
            "tags": []
          }
        },
        {
          "output_type": "stream",
          "text": [
            "Epoch: 8, Batch: 0, Error D: 0.18536436557769775, Error G: 9.602057456970215\n"
          ],
          "name": "stdout"
        },
        {
          "output_type": "display_data",
          "data": {
            "image/png": "[encoded data removed]",
            "text/plain": [
              "<Figure size 432x288 with 1 Axes>"
            ]
          },
          "metadata": {
            "tags": []
          }
        },
        {
          "output_type": "stream",
          "text": [
            "Epoch: 8, Batch: 500, Error D: 0.1391928642988205, Error G: 4.1341962814331055\n"
          ],
          "name": "stdout"
        },
        {
          "output_type": "display_data",
          "data": {
            "image/png": "[encoded data removed]",
            "text/plain": [
              "<Figure size 432x288 with 1 Axes>"
            ]
          },
          "metadata": {
            "tags": []
          }
        },
        {
          "output_type": "stream",
          "text": [
            "Epoch: 8, Batch: 1000, Error D: 0.15918272733688354, Error G: 3.957138776779175\n"
          ],
          "name": "stdout"
        },
        {
          "output_type": "display_data",
          "data": {
            "image/png": "[encoded data removed]",
            "text/plain": [
              "<Figure size 432x288 with 1 Axes>"
            ]
          },
          "metadata": {
            "tags": []
          }
        },
        {
          "output_type": "stream",
          "text": [
            "Epoch: 9, Batch: 0, Error D: 0.03629973530769348, Error G: 6.927427768707275\n"
          ],
          "name": "stdout"
        },
        {
          "output_type": "display_data",
          "data": {
            "image/png": "[encoded data removed]",
            "text/plain": [
              "<Figure size 432x288 with 1 Axes>"
            ]
          },
          "metadata": {
            "tags": []
          }
        },
        {
          "output_type": "stream",
          "text": [
            "Epoch: 9, Batch: 500, Error D: 0.1162184625864029, Error G: 4.491998672485352\n"
          ],
          "name": "stdout"
        },
        {
          "output_type": "display_data",
          "data": {
            "image/png": "[encoded data removed]",
            "text/plain": [
              "<Figure size 432x288 with 1 Axes>"
            ]
          },
          "metadata": {
            "tags": []
          }
        },
        {
          "output_type": "stream",
          "text": [
            "Epoch: 9, Batch: 1000, Error D: 0.3693790137767792, Error G: 3.3844830989837646\n"
          ],
          "name": "stdout"
        },
        {
          "output_type": "display_data",
          "data": {
            "image/png": "[encoded data removed]",
            "text/plain": [
              "<Figure size 432x288 with 1 Axes>"
            ]
          },
          "metadata": {
            "tags": []
          }
        },
        {
          "output_type": "stream",
          "text": [
            "Epoch: 10, Batch: 0, Error D: 0.030896080657839775, Error G: 5.817506313323975\n"
          ],
          "name": "stdout"
        },
        {
          "output_type": "display_data",
          "data": {
            "image/png": "[encoded data removed]",
            "text/plain": [
              "<Figure size 432x288 with 1 Axes>"
            ]
          },
          "metadata": {
            "tags": []
          }
        },
        {
          "output_type": "error",
          "ename": "KeyboardInterrupt",
          "evalue": "ignored",
          "traceback": [
            "\u001b[0;31m---------------------------------------------------------------------------\u001b[0m",
            "\u001b[0;31mKeyboardInterrupt\u001b[0m                         Traceback (most recent call last)",
            "\u001b[0;32m<ipython-input-11-16a82df91560>\u001b[0m in \u001b[0;36m<module>\u001b[0;34m()\u001b[0m\n\u001b[1;32m     30\u001b[0m \u001b[0;34m\u001b[0m\u001b[0m\n\u001b[1;32m     31\u001b[0m         \u001b[0;31m# Train discriminator on real data\u001b[0m\u001b[0;34m\u001b[0m\u001b[0;34m\u001b[0m\u001b[0;34m\u001b[0m\u001b[0m\n\u001b[0;32m---> 32\u001b[0;31m         \u001b[0mprediction_real\u001b[0m \u001b[0;34m=\u001b[0m \u001b[0mdiscriminator\u001b[0m\u001b[0;34m(\u001b[0m\u001b[0mreal_data\u001b[0m\u001b[0;34m)\u001b[0m\u001b[0;34m\u001b[0m\u001b[0;34m\u001b[0m\u001b[0m\n\u001b[0m\u001b[1;32m     33\u001b[0m \u001b[0;34m\u001b[0m\u001b[0m\n\u001b[1;32m     34\u001b[0m         \u001b[0;31m# Calculate error and backpropagate\u001b[0m\u001b[0;34m\u001b[0m\u001b[0;34m\u001b[0m\u001b[0;34m\u001b[0m\u001b[0m\n",
            "\u001b[0;32m/usr/local/lib/python3.6/dist-packages/torch/nn/modules/module.py\u001b[0m in \u001b[0;36m__call__\u001b[0;34m(self, *input, **kwargs)\u001b[0m\n\u001b[1;32m    530\u001b[0m             \u001b[0mresult\u001b[0m \u001b[0;34m=\u001b[0m \u001b[0mself\u001b[0m\u001b[0;34m.\u001b[0m\u001b[0m_slow_forward\u001b[0m\u001b[0;34m(\u001b[0m\u001b[0;34m*\u001b[0m\u001b[0minput\u001b[0m\u001b[0;34m,\u001b[0m \u001b[0;34m**\u001b[0m\u001b[0mkwargs\u001b[0m\u001b[0;34m)\u001b[0m\u001b[0;34m\u001b[0m\u001b[0;34m\u001b[0m\u001b[0m\n\u001b[1;32m    531\u001b[0m         \u001b[0;32melse\u001b[0m\u001b[0;34m:\u001b[0m\u001b[0;34m\u001b[0m\u001b[0;34m\u001b[0m\u001b[0m\n\u001b[0;32m--> 532\u001b[0;31m             \u001b[0mresult\u001b[0m \u001b[0;34m=\u001b[0m \u001b[0mself\u001b[0m\u001b[0;34m.\u001b[0m\u001b[0mforward\u001b[0m\u001b[0;34m(\u001b[0m\u001b[0;34m*\u001b[0m\u001b[0minput\u001b[0m\u001b[0;34m,\u001b[0m \u001b[0;34m**\u001b[0m\u001b[0mkwargs\u001b[0m\u001b[0;34m)\u001b[0m\u001b[0;34m\u001b[0m\u001b[0;34m\u001b[0m\u001b[0m\n\u001b[0m\u001b[1;32m    533\u001b[0m         \u001b[0;32mfor\u001b[0m \u001b[0mhook\u001b[0m \u001b[0;32min\u001b[0m \u001b[0mself\u001b[0m\u001b[0;34m.\u001b[0m\u001b[0m_forward_hooks\u001b[0m\u001b[0;34m.\u001b[0m\u001b[0mvalues\u001b[0m\u001b[0;34m(\u001b[0m\u001b[0;34m)\u001b[0m\u001b[0;34m:\u001b[0m\u001b[0;34m\u001b[0m\u001b[0;34m\u001b[0m\u001b[0m\n\u001b[1;32m    534\u001b[0m             \u001b[0mhook_result\u001b[0m \u001b[0;34m=\u001b[0m \u001b[0mhook\u001b[0m\u001b[0;34m(\u001b[0m\u001b[0mself\u001b[0m\u001b[0;34m,\u001b[0m \u001b[0minput\u001b[0m\u001b[0;34m,\u001b[0m \u001b[0mresult\u001b[0m\u001b[0;34m)\u001b[0m\u001b[0;34m\u001b[0m\u001b[0;34m\u001b[0m\u001b[0m\n",
            "\u001b[0;32m<ipython-input-10-bfb1eb195471>\u001b[0m in \u001b[0;36mforward\u001b[0;34m(self, x)\u001b[0m\n\u001b[1;32m     31\u001b[0m         \u001b[0mx\u001b[0m \u001b[0;34m=\u001b[0m \u001b[0mx\u001b[0m\u001b[0;34m.\u001b[0m\u001b[0mview\u001b[0m\u001b[0;34m(\u001b[0m\u001b[0;34m-\u001b[0m\u001b[0;36m1\u001b[0m\u001b[0;34m,\u001b[0m\u001b[0;36m1\u001b[0m\u001b[0;34m,\u001b[0m\u001b[0mn_pix\u001b[0m\u001b[0;34m,\u001b[0m\u001b[0mn_pix\u001b[0m\u001b[0;34m)\u001b[0m\u001b[0;34m\u001b[0m\u001b[0;34m\u001b[0m\u001b[0m\n\u001b[1;32m     32\u001b[0m \u001b[0;34m\u001b[0m\u001b[0m\n\u001b[0;32m---> 33\u001b[0;31m         \u001b[0moutput\u001b[0m \u001b[0;34m=\u001b[0m \u001b[0mself\u001b[0m\u001b[0;34m.\u001b[0m\u001b[0mmain\u001b[0m\u001b[0;34m(\u001b[0m\u001b[0mx\u001b[0m\u001b[0;34m)\u001b[0m\u001b[0;34m\u001b[0m\u001b[0;34m\u001b[0m\u001b[0m\n\u001b[0m\u001b[1;32m     34\u001b[0m \u001b[0;34m\u001b[0m\u001b[0m\n\u001b[1;32m     35\u001b[0m         \u001b[0;32mreturn\u001b[0m \u001b[0moutput\u001b[0m\u001b[0;34m\u001b[0m\u001b[0;34m\u001b[0m\u001b[0m\n",
            "\u001b[0;32m/usr/local/lib/python3.6/dist-packages/torch/nn/modules/module.py\u001b[0m in \u001b[0;36m__call__\u001b[0;34m(self, *input, **kwargs)\u001b[0m\n\u001b[1;32m    530\u001b[0m             \u001b[0mresult\u001b[0m \u001b[0;34m=\u001b[0m \u001b[0mself\u001b[0m\u001b[0;34m.\u001b[0m\u001b[0m_slow_forward\u001b[0m\u001b[0;34m(\u001b[0m\u001b[0;34m*\u001b[0m\u001b[0minput\u001b[0m\u001b[0;34m,\u001b[0m \u001b[0;34m**\u001b[0m\u001b[0mkwargs\u001b[0m\u001b[0;34m)\u001b[0m\u001b[0;34m\u001b[0m\u001b[0;34m\u001b[0m\u001b[0m\n\u001b[1;32m    531\u001b[0m         \u001b[0;32melse\u001b[0m\u001b[0;34m:\u001b[0m\u001b[0;34m\u001b[0m\u001b[0;34m\u001b[0m\u001b[0m\n\u001b[0;32m--> 532\u001b[0;31m             \u001b[0mresult\u001b[0m \u001b[0;34m=\u001b[0m \u001b[0mself\u001b[0m\u001b[0;34m.\u001b[0m\u001b[0mforward\u001b[0m\u001b[0;34m(\u001b[0m\u001b[0;34m*\u001b[0m\u001b[0minput\u001b[0m\u001b[0;34m,\u001b[0m \u001b[0;34m**\u001b[0m\u001b[0mkwargs\u001b[0m\u001b[0;34m)\u001b[0m\u001b[0;34m\u001b[0m\u001b[0;34m\u001b[0m\u001b[0m\n\u001b[0m\u001b[1;32m    533\u001b[0m         \u001b[0;32mfor\u001b[0m \u001b[0mhook\u001b[0m \u001b[0;32min\u001b[0m \u001b[0mself\u001b[0m\u001b[0;34m.\u001b[0m\u001b[0m_forward_hooks\u001b[0m\u001b[0;34m.\u001b[0m\u001b[0mvalues\u001b[0m\u001b[0;34m(\u001b[0m\u001b[0;34m)\u001b[0m\u001b[0;34m:\u001b[0m\u001b[0;34m\u001b[0m\u001b[0;34m\u001b[0m\u001b[0m\n\u001b[1;32m    534\u001b[0m             \u001b[0mhook_result\u001b[0m \u001b[0;34m=\u001b[0m \u001b[0mhook\u001b[0m\u001b[0;34m(\u001b[0m\u001b[0mself\u001b[0m\u001b[0;34m,\u001b[0m \u001b[0minput\u001b[0m\u001b[0;34m,\u001b[0m \u001b[0mresult\u001b[0m\u001b[0;34m)\u001b[0m\u001b[0;34m\u001b[0m\u001b[0;34m\u001b[0m\u001b[0m\n",
            "\u001b[0;32m/usr/local/lib/python3.6/dist-packages/torch/nn/modules/container.py\u001b[0m in \u001b[0;36mforward\u001b[0;34m(self, input)\u001b[0m\n\u001b[1;32m     98\u001b[0m     \u001b[0;32mdef\u001b[0m \u001b[0mforward\u001b[0m\u001b[0;34m(\u001b[0m\u001b[0mself\u001b[0m\u001b[0;34m,\u001b[0m \u001b[0minput\u001b[0m\u001b[0;34m)\u001b[0m\u001b[0;34m:\u001b[0m\u001b[0;34m\u001b[0m\u001b[0;34m\u001b[0m\u001b[0m\n\u001b[1;32m     99\u001b[0m         \u001b[0;32mfor\u001b[0m \u001b[0mmodule\u001b[0m \u001b[0;32min\u001b[0m \u001b[0mself\u001b[0m\u001b[0;34m:\u001b[0m\u001b[0;34m\u001b[0m\u001b[0;34m\u001b[0m\u001b[0m\n\u001b[0;32m--> 100\u001b[0;31m             \u001b[0minput\u001b[0m \u001b[0;34m=\u001b[0m \u001b[0mmodule\u001b[0m\u001b[0;34m(\u001b[0m\u001b[0minput\u001b[0m\u001b[0;34m)\u001b[0m\u001b[0;34m\u001b[0m\u001b[0;34m\u001b[0m\u001b[0m\n\u001b[0m\u001b[1;32m    101\u001b[0m         \u001b[0;32mreturn\u001b[0m \u001b[0minput\u001b[0m\u001b[0;34m\u001b[0m\u001b[0;34m\u001b[0m\u001b[0m\n\u001b[1;32m    102\u001b[0m \u001b[0;34m\u001b[0m\u001b[0m\n",
            "\u001b[0;32m/usr/local/lib/python3.6/dist-packages/torch/nn/modules/module.py\u001b[0m in \u001b[0;36m__call__\u001b[0;34m(self, *input, **kwargs)\u001b[0m\n\u001b[1;32m    530\u001b[0m             \u001b[0mresult\u001b[0m \u001b[0;34m=\u001b[0m \u001b[0mself\u001b[0m\u001b[0;34m.\u001b[0m\u001b[0m_slow_forward\u001b[0m\u001b[0;34m(\u001b[0m\u001b[0;34m*\u001b[0m\u001b[0minput\u001b[0m\u001b[0;34m,\u001b[0m \u001b[0;34m**\u001b[0m\u001b[0mkwargs\u001b[0m\u001b[0;34m)\u001b[0m\u001b[0;34m\u001b[0m\u001b[0;34m\u001b[0m\u001b[0m\n\u001b[1;32m    531\u001b[0m         \u001b[0;32melse\u001b[0m\u001b[0;34m:\u001b[0m\u001b[0;34m\u001b[0m\u001b[0;34m\u001b[0m\u001b[0m\n\u001b[0;32m--> 532\u001b[0;31m             \u001b[0mresult\u001b[0m \u001b[0;34m=\u001b[0m \u001b[0mself\u001b[0m\u001b[0;34m.\u001b[0m\u001b[0mforward\u001b[0m\u001b[0;34m(\u001b[0m\u001b[0;34m*\u001b[0m\u001b[0minput\u001b[0m\u001b[0;34m,\u001b[0m \u001b[0;34m**\u001b[0m\u001b[0mkwargs\u001b[0m\u001b[0;34m)\u001b[0m\u001b[0;34m\u001b[0m\u001b[0;34m\u001b[0m\u001b[0m\n\u001b[0m\u001b[1;32m    533\u001b[0m         \u001b[0;32mfor\u001b[0m \u001b[0mhook\u001b[0m \u001b[0;32min\u001b[0m \u001b[0mself\u001b[0m\u001b[0;34m.\u001b[0m\u001b[0m_forward_hooks\u001b[0m\u001b[0;34m.\u001b[0m\u001b[0mvalues\u001b[0m\u001b[0;34m(\u001b[0m\u001b[0;34m)\u001b[0m\u001b[0;34m:\u001b[0m\u001b[0;34m\u001b[0m\u001b[0;34m\u001b[0m\u001b[0m\n\u001b[1;32m    534\u001b[0m             \u001b[0mhook_result\u001b[0m \u001b[0;34m=\u001b[0m \u001b[0mhook\u001b[0m\u001b[0;34m(\u001b[0m\u001b[0mself\u001b[0m\u001b[0;34m,\u001b[0m \u001b[0minput\u001b[0m\u001b[0;34m,\u001b[0m \u001b[0mresult\u001b[0m\u001b[0;34m)\u001b[0m\u001b[0;34m\u001b[0m\u001b[0;34m\u001b[0m\u001b[0m\n",
            "\u001b[0;32m/usr/local/lib/python3.6/dist-packages/torch/nn/modules/conv.py\u001b[0m in \u001b[0;36mforward\u001b[0;34m(self, input)\u001b[0m\n\u001b[1;32m    343\u001b[0m \u001b[0;34m\u001b[0m\u001b[0m\n\u001b[1;32m    344\u001b[0m     \u001b[0;32mdef\u001b[0m \u001b[0mforward\u001b[0m\u001b[0;34m(\u001b[0m\u001b[0mself\u001b[0m\u001b[0;34m,\u001b[0m \u001b[0minput\u001b[0m\u001b[0;34m)\u001b[0m\u001b[0;34m:\u001b[0m\u001b[0;34m\u001b[0m\u001b[0;34m\u001b[0m\u001b[0m\n\u001b[0;32m--> 345\u001b[0;31m         \u001b[0;32mreturn\u001b[0m \u001b[0mself\u001b[0m\u001b[0;34m.\u001b[0m\u001b[0mconv2d_forward\u001b[0m\u001b[0;34m(\u001b[0m\u001b[0minput\u001b[0m\u001b[0;34m,\u001b[0m \u001b[0mself\u001b[0m\u001b[0;34m.\u001b[0m\u001b[0mweight\u001b[0m\u001b[0;34m)\u001b[0m\u001b[0;34m\u001b[0m\u001b[0;34m\u001b[0m\u001b[0m\n\u001b[0m\u001b[1;32m    346\u001b[0m \u001b[0;34m\u001b[0m\u001b[0m\n\u001b[1;32m    347\u001b[0m \u001b[0;32mclass\u001b[0m \u001b[0mConv3d\u001b[0m\u001b[0;34m(\u001b[0m\u001b[0m_ConvNd\u001b[0m\u001b[0;34m)\u001b[0m\u001b[0;34m:\u001b[0m\u001b[0;34m\u001b[0m\u001b[0;34m\u001b[0m\u001b[0m\n",
            "\u001b[0;32m/usr/local/lib/python3.6/dist-packages/torch/nn/modules/conv.py\u001b[0m in \u001b[0;36mconv2d_forward\u001b[0;34m(self, input, weight)\u001b[0m\n\u001b[1;32m    340\u001b[0m                             _pair(0), self.dilation, self.groups)\n\u001b[1;32m    341\u001b[0m         return F.conv2d(input, weight, self.bias, self.stride,\n\u001b[0;32m--> 342\u001b[0;31m                         self.padding, self.dilation, self.groups)\n\u001b[0m\u001b[1;32m    343\u001b[0m \u001b[0;34m\u001b[0m\u001b[0m\n\u001b[1;32m    344\u001b[0m     \u001b[0;32mdef\u001b[0m \u001b[0mforward\u001b[0m\u001b[0;34m(\u001b[0m\u001b[0mself\u001b[0m\u001b[0;34m,\u001b[0m \u001b[0minput\u001b[0m\u001b[0;34m)\u001b[0m\u001b[0;34m:\u001b[0m\u001b[0;34m\u001b[0m\u001b[0;34m\u001b[0m\u001b[0m\n",
            "\u001b[0;31mKeyboardInterrupt\u001b[0m: "
          ]
        }
      ]
    },
    {
      "cell_type": "markdown",
      "metadata": {
        "id": "Ha9t6zx5UV4n",
        "colab_type": "text"
      },
      "source": [
        "### VAE Networks"
      ]
    },
    {
      "cell_type": "markdown",
      "metadata": {
        "id": "6tASmKXwIh70",
        "colab_type": "text"
      },
      "source": [
        ""
      ]
    },
    {
      "cell_type": "code",
      "metadata": {
        "id": "RDQFNEKTUVLl",
        "colab_type": "code",
        "colab": {}
      },
      "source": [
        "# The code below implements a (technically) fully functional variational autoencoder\n",
        "# You will need to make it more complex, however\n",
        "\n",
        "class VAE(nn.Module):\n",
        "    def __init__(self):\n",
        "        super(VAE, self).__init__()\n",
        "\n",
        "        # Layers for the encoder\n",
        "        self.fc1 = nn.Linear(n_pix*n_pix, 64)\n",
        "        self.fc2 = nn.Linear(64, 64)\n",
        "        self.fc3 = nn.Linear(64, 64)\n",
        "\n",
        "        self.sigma_fc1 = nn.Linear(64, 32)\n",
        "        self.sigma_fc2 = nn.Linear(32, 20)\n",
        "\n",
        "        self.mu_fc1 = nn.Linear(64, 32)\n",
        "        self.mu_fc2 = nn.Linear(32, 20)\n",
        "\n",
        "        \n",
        "        # Layers for the decoder\n",
        "        self.dec_fc1 = nn.Linear(20,32)\n",
        "        self.dec_fc2 = nn.Linear(32,64)\n",
        "        self.dec_fc3 = nn.Linear(64,64)\n",
        "        self.dec_fc4 = nn.Linear(64,64)\n",
        "        self.dec_fc5 = nn.Linear(64,n_pix*n_pix)\n",
        "\n",
        "        \n",
        "    def encode(self,x):\n",
        "        # Encoder part of the network\n",
        "        # TODO:\n",
        "        # We have one layer to calculate mu and one to calculate sigma\n",
        "        # Ideally we would have a few shared layers for mu and sigma \n",
        "        # and the final layers separate. Of course the intermediate\n",
        "        # layers should also include activiation functions\n",
        "        act_func = nn.Tanh()\n",
        "        x = self.fc1(x)\n",
        "        x = act_func(x)\n",
        "        x = self.fc2(x)\n",
        "        x = act_func(x)\n",
        "        x = self.fc3(x)\n",
        "        x = act_func(x)\n",
        "\n",
        "        mu = self.mu_fc1(x)\n",
        "        mu = act_func(mu)\n",
        "        mu = self.mu_fc2(mu)\n",
        "\n",
        "        sigma = self.sigma_fc1(x)\n",
        "        sigma = act_func(sigma)\n",
        "        sigma = self.sigma_fc2(sigma)\n",
        "            \n",
        "        return mu,sigma\n",
        "    \n",
        "    def decode(self, z):\n",
        "        # Decoder part of the network\n",
        "        # TODO:\n",
        "        # This could also be more complex. Make sure to keep the sigmoid\n",
        "        # as final actication\n",
        "        act_func = nn.Tanh()\n",
        "        z = self.dec_fc1(z)\n",
        "        z = act_func(z)\n",
        "        z = self.dec_fc2(z)\n",
        "        z = act_func(z)\n",
        "        z = self.dec_fc3(z)\n",
        "        z = act_func(z)\n",
        "        z = self.dec_fc4(z)\n",
        "        z = act_func(z)\n",
        "        z = self.dec_fc5(z)\n",
        "        z = act_func(z)\n",
        "\n",
        "        return z\n",
        "        \n",
        "    def sample(self, mu, sigma):\n",
        "\n",
        "        # randn_like produces random numbers using a Gauss(0,1) distribution\n",
        "        # as a tensor with the same shape as its argument\n",
        "        eps = torch.randn_like(sigma)\n",
        "        z = mu + eps*sigma\n",
        "        \n",
        "        return z\n",
        "   \n",
        "\n",
        "    def forward(self, x):\n",
        "        \n",
        "        x = x.view(-1,n_pix*n_pix)\n",
        "        \n",
        "        mu,sigma = self.encode(x)\n",
        "        \n",
        "        z = self.sample(mu,sigma)\n",
        "                \n",
        "        out = self.decode(z)\n",
        "\n",
        "        return out, mu, sigma\n",
        "\n",
        "\n",
        "device = torch.device('cuda' if torch.cuda.is_available() else 'cpu')          \n",
        "model = VAE().to(device)\n",
        "\n",
        "optimizer = torch.optim.Adam(model.parameters(), lr=0.001)"
      ],
      "execution_count": 0,
      "outputs": []
    },
    {
      "cell_type": "markdown",
      "metadata": {
        "id": "j6HHzEd6F0AN",
        "colab_type": "text"
      },
      "source": [
        "## KLD formula:\n",
        "\n",
        "$\\frac{1}{2} \\sum_{j=1}^J \\left( 1 + log((\\sigma_j)^2) - (\\mu_j)^2 - (\\sigma_j)^2 \\right)$"
      ]
    },
    {
      "cell_type": "code",
      "metadata": {
        "id": "9whPDz69UdHo",
        "colab_type": "code",
        "colab": {}
      },
      "source": [
        "# Reconstruction loss function\n",
        "def loss_function(recon_x, x, mu, sigma):\n",
        "\n",
        "    # Binary cross entropy\n",
        "    BCE = F.binary_cross_entropy(recon_x, x.view(-1, n_pix*n_pix), reduction='sum')\n",
        "    \n",
        "    # TODO:\n",
        "    # Here we are missing the Kullback-Leiber divergence\n",
        "    # You should calculate it following the formula from the lecture\n",
        "    # For a tensor T you can call T.pow(2) to square it\n",
        "    # and T.log() to calculate the logarithm\n",
        "    # torch.sum(T) sums over the different axes of a tensor and return a scalar\n",
        "\n",
        "    KLD = - 0.5 * torch.sum(1. + 2*sigma.log() - mu.pow(2) - sigma.pow(2))\n",
        "      \n",
        "    return BCE + KLD"
      ],
      "execution_count": 0,
      "outputs": []
    },
    {
      "cell_type": "code",
      "metadata": {
        "id": "VHkfxM8kUfnI",
        "colab_type": "code",
        "colab": {
          "base_uri": "https://localhost:8080/",
          "height": 382
        },
        "outputId": "71cc9ef6-4f0c-45c6-ef97-f0f488cbdd27"
      },
      "source": [
        "# The code below handles the training of the VAE\n",
        "\n",
        "batch_size = 50\n",
        "\n",
        "max_batches = int(X.shape[0] / batch_size)\n",
        "\n",
        "# Total number of epochs to train\n",
        "n_epochs = 1 # start with one epoch (you will want to increase this number)\n",
        "\n",
        "# Loop over epochs\n",
        "for epoch in range(n_epochs):\n",
        "\n",
        "    train_loss = 0\n",
        "  \n",
        "    # Loop over training examples\n",
        "    for i_batch in range(max_batches):\n",
        "    \n",
        "\n",
        " \n",
        "        # Prepare input data\n",
        "        data = X[i_batch*batch_size:(i_batch+1)*batch_size].cuda()\n",
        "               \n",
        "        # reset readients\n",
        "        optimizer.zero_grad()\n",
        "                \n",
        "        # apply model to data and get the decoder output as well as the\n",
        "        # latent space variables\n",
        "        recon_batch, mu, sigma = model(data)\n",
        "        \n",
        "        # calculate the loss function and update gradients\n",
        "        loss = loss_function(recon_batch, data, mu, sigma)\n",
        "        loss.backward() \n",
        "        optimizer.step()\n",
        "        \n",
        "        train_loss += loss.item()\n",
        "        \n",
        "        # Show status every few batches\n",
        "        if (i_batch) % 500 == 0: \n",
        "        \n",
        "            # throw random numbers and let the autoencoder build images\n",
        "            sample = torch.randn(20).to(device)\n",
        "            sample = model.decode(sample).cpu()\n",
        "    \n",
        "            print(\"Epoch: {0}, Batch: {1}, Loss: {2}\".format(epoch,i_batch,train_loss))\n",
        "            draw_image(sample.view(1, n_pix, n_pix).detach().numpy()[0])"
      ],
      "execution_count": 11,
      "outputs": [
        {
          "output_type": "error",
          "ename": "RuntimeError",
          "evalue": "ignored",
          "traceback": [
            "\u001b[0;31m---------------------------------------------------------------------------\u001b[0m",
            "\u001b[0;31mRuntimeError\u001b[0m                              Traceback (most recent call last)",
            "\u001b[0;32m<ipython-input-11-4b060f726aab>\u001b[0m in \u001b[0;36m<module>\u001b[0;34m()\u001b[0m\n\u001b[1;32m     28\u001b[0m \u001b[0;34m\u001b[0m\u001b[0m\n\u001b[1;32m     29\u001b[0m         \u001b[0;31m# calculate the loss function and update gradients\u001b[0m\u001b[0;34m\u001b[0m\u001b[0;34m\u001b[0m\u001b[0;34m\u001b[0m\u001b[0m\n\u001b[0;32m---> 30\u001b[0;31m         \u001b[0mloss\u001b[0m \u001b[0;34m=\u001b[0m \u001b[0mloss_function\u001b[0m\u001b[0;34m(\u001b[0m\u001b[0mrecon_batch\u001b[0m\u001b[0;34m,\u001b[0m \u001b[0mdata\u001b[0m\u001b[0;34m,\u001b[0m \u001b[0mmu\u001b[0m\u001b[0;34m,\u001b[0m \u001b[0msigma\u001b[0m\u001b[0;34m)\u001b[0m\u001b[0;34m\u001b[0m\u001b[0;34m\u001b[0m\u001b[0m\n\u001b[0m\u001b[1;32m     31\u001b[0m         \u001b[0mloss\u001b[0m\u001b[0;34m.\u001b[0m\u001b[0mbackward\u001b[0m\u001b[0;34m(\u001b[0m\u001b[0;34m)\u001b[0m\u001b[0;34m\u001b[0m\u001b[0;34m\u001b[0m\u001b[0m\n\u001b[1;32m     32\u001b[0m         \u001b[0moptimizer\u001b[0m\u001b[0;34m.\u001b[0m\u001b[0mstep\u001b[0m\u001b[0;34m(\u001b[0m\u001b[0;34m)\u001b[0m\u001b[0;34m\u001b[0m\u001b[0;34m\u001b[0m\u001b[0m\n",
            "\u001b[0;32m<ipython-input-10-edba43017eae>\u001b[0m in \u001b[0;36mloss_function\u001b[0;34m(recon_x, x, mu, sigma)\u001b[0m\n\u001b[1;32m      2\u001b[0m \u001b[0;34m\u001b[0m\u001b[0m\n\u001b[1;32m      3\u001b[0m     \u001b[0;31m# Binary cross entropy\u001b[0m\u001b[0;34m\u001b[0m\u001b[0;34m\u001b[0m\u001b[0;34m\u001b[0m\u001b[0m\n\u001b[0;32m----> 4\u001b[0;31m     \u001b[0mBCE\u001b[0m \u001b[0;34m=\u001b[0m \u001b[0mF\u001b[0m\u001b[0;34m.\u001b[0m\u001b[0mbinary_cross_entropy\u001b[0m\u001b[0;34m(\u001b[0m\u001b[0mrecon_x\u001b[0m\u001b[0;34m,\u001b[0m \u001b[0mx\u001b[0m\u001b[0;34m.\u001b[0m\u001b[0mview\u001b[0m\u001b[0;34m(\u001b[0m\u001b[0;34m-\u001b[0m\u001b[0;36m1\u001b[0m\u001b[0;34m,\u001b[0m \u001b[0mn_pix\u001b[0m\u001b[0;34m*\u001b[0m\u001b[0mn_pix\u001b[0m\u001b[0;34m)\u001b[0m\u001b[0;34m,\u001b[0m \u001b[0mreduction\u001b[0m\u001b[0;34m=\u001b[0m\u001b[0;34m'sum'\u001b[0m\u001b[0;34m)\u001b[0m\u001b[0;34m\u001b[0m\u001b[0;34m\u001b[0m\u001b[0m\n\u001b[0m\u001b[1;32m      5\u001b[0m \u001b[0;34m\u001b[0m\u001b[0m\n\u001b[1;32m      6\u001b[0m     \u001b[0;31m# TODO:\u001b[0m\u001b[0;34m\u001b[0m\u001b[0;34m\u001b[0m\u001b[0;34m\u001b[0m\u001b[0m\n",
            "\u001b[0;32m/usr/local/lib/python3.6/dist-packages/torch/nn/functional.py\u001b[0m in \u001b[0;36mbinary_cross_entropy\u001b[0;34m(input, target, weight, size_average, reduce, reduction)\u001b[0m\n\u001b[1;32m   2075\u001b[0m \u001b[0;34m\u001b[0m\u001b[0m\n\u001b[1;32m   2076\u001b[0m     return torch._C._nn.binary_cross_entropy(\n\u001b[0;32m-> 2077\u001b[0;31m         input, target, weight, reduction_enum)\n\u001b[0m\u001b[1;32m   2078\u001b[0m \u001b[0;34m\u001b[0m\u001b[0m\n\u001b[1;32m   2079\u001b[0m \u001b[0;34m\u001b[0m\u001b[0m\n",
            "\u001b[0;31mRuntimeError\u001b[0m: reduce failed to synchronize: cudaErrorAssert: device-side assert triggered"
          ]
        }
      ]
    },
    {
      "cell_type": "code",
      "metadata": {
        "id": "fB6L7nLYUjH_",
        "colab_type": "code",
        "colab": {}
      },
      "source": [
        ""
      ],
      "execution_count": 0,
      "outputs": []
    }
  ]
}